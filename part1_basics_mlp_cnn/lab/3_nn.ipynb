{
 "cells": [
  {
   "cell_type": "code",
   "execution_count": 1,
   "metadata": {
    "slideshow": {
     "slide_type": "skip"
    }
   },
   "outputs": [
    {
     "name": "stderr",
     "output_type": "stream",
     "text": [
      "/anaconda2/lib/python2.7/site-packages/h5py/__init__.py:36: FutureWarning: Conversion of the second argument of issubdtype from `float` to `np.floating` is deprecated. In future, it will be treated as `np.float64 == np.dtype(float).type`.\n",
      "  from ._conv import register_converters as _register_converters\n"
     ]
    }
   ],
   "source": [
    "\n",
    "import matplotlib.pyplot as plt\n",
    "import numpy as np\n",
    "import mxnet as mx\n",
    "from mxnet import nd\n",
    "from mxnet import gluon\n",
    "from mxnet import autograd\n",
    "from notebook.services.config import ConfigManager\n",
    "%matplotlib inline"
   ]
  },
  {
   "cell_type": "markdown",
   "metadata": {
    "slideshow": {
     "slide_type": "slide"
    }
   },
   "source": [
    "# Create a neural network"
   ]
  },
  {
   "cell_type": "markdown",
   "metadata": {
    "slideshow": {
     "slide_type": "notes"
    }
   },
   "source": [
    "Now let's look how to create neural networks in Gluon. In addition the NDArray package (`nd`) that we just covered, we now will also import the neural network `nn` package from `gluon`."
   ]
  },
  {
   "cell_type": "code",
   "execution_count": 2,
   "metadata": {
    "attributes": {
     "classes": [],
     "id": "",
     "n": "2"
    },
    "slideshow": {
     "slide_type": "fragment"
    }
   },
   "outputs": [],
   "source": [
    "import mxnet as mx\n",
    "\n",
    "from mxnet import nd\n",
    "from mxnet.gluon import nn"
   ]
  },
  {
   "cell_type": "markdown",
   "metadata": {
    "slideshow": {
     "slide_type": "slide"
    }
   },
   "source": [
    "## Create your first neural network layer"
   ]
  },
  {
   "cell_type": "markdown",
   "metadata": {
    "slideshow": {
     "slide_type": "notes"
    }
   },
   "source": [
    "Let's start with a dense layer with 2 output units.\n",
    "The None is because there hasn't been any data passed in yet"
   ]
  },
  {
   "cell_type": "markdown",
   "metadata": {
    "slideshow": {
     "slide_type": "fragment"
    }
   },
   "source": [
    "<center><img src=\"../support/fullyconnected.png\" width=400></center>"
   ]
  },
  {
   "cell_type": "code",
   "execution_count": 3,
   "metadata": {
    "attributes": {
     "classes": [],
     "id": "",
     "n": "31"
    },
    "slideshow": {
     "slide_type": "fragment"
    }
   },
   "outputs": [
    {
     "data": {
      "text/plain": [
       "Dense(None -> 3, Activation(relu))"
      ]
     },
     "execution_count": 3,
     "metadata": {},
     "output_type": "execute_result"
    }
   ],
   "source": [
    "layer = nn.Dense(3, activation=\"relu\")\n",
    "layer"
   ]
  },
  {
   "cell_type": "markdown",
   "metadata": {
    "slideshow": {
     "slide_type": "notes"
    }
   },
   "source": [
    "Then initialize its weights with the default initialization method, which draws random values uniformly from $[-0.7, 0.7]$."
   ]
  },
  {
   "cell_type": "markdown",
   "metadata": {
    "slideshow": {
     "slide_type": "slide"
    }
   },
   "source": [
    "Initialization"
   ]
  },
  {
   "cell_type": "code",
   "execution_count": 4,
   "metadata": {
    "slideshow": {
     "slide_type": "fragment"
    }
   },
   "outputs": [
    {
     "data": {
      "text/plain": [
       "dense0_ (\n",
       "  Parameter dense0_weight (shape=(3, 0), dtype=float32)\n",
       "  Parameter dense0_bias (shape=(3,), dtype=float32)\n",
       ")"
      ]
     },
     "execution_count": 4,
     "metadata": {},
     "output_type": "execute_result"
    }
   ],
   "source": [
    "layer.params"
   ]
  },
  {
   "cell_type": "code",
   "execution_count": 5,
   "metadata": {
    "attributes": {
     "classes": [],
     "id": "",
     "n": "32"
    },
    "slideshow": {
     "slide_type": "fragment"
    }
   },
   "outputs": [],
   "source": [
    "layer.initialize(mx.init.Xavier())"
   ]
  },
  {
   "cell_type": "markdown",
   "metadata": {
    "slideshow": {
     "slide_type": "notes"
    }
   },
   "source": [
    "Then we do a forward pass with random data. We create a $(3,4)$ shape random input `x` and feed into the layer to compute the output."
   ]
  },
  {
   "cell_type": "markdown",
   "metadata": {
    "slideshow": {
     "slide_type": "slide"
    }
   },
   "source": [
    "Forward with input `x`"
   ]
  },
  {
   "cell_type": "code",
   "execution_count": 6,
   "metadata": {
    "attributes": {
     "classes": [],
     "id": "",
     "n": "34"
    },
    "slideshow": {
     "slide_type": "fragment"
    }
   },
   "outputs": [
    {
     "data": {
      "text/plain": [
       "\n",
       "[[0.09762704 0.18568921 0.43037868 0.6885315 ]\n",
       " [0.20552671 0.71589124 0.08976638 0.6945034 ]]\n",
       "<NDArray 2x4 @cpu(0)>"
      ]
     },
     "execution_count": 6,
     "metadata": {},
     "output_type": "execute_result"
    }
   ],
   "source": [
    "N = 2\n",
    "x = nd.random.uniform(low=-1, high=1, shape=(N, 4))\n",
    "x"
   ]
  },
  {
   "cell_type": "code",
   "execution_count": 7,
   "metadata": {
    "attributes": {
     "classes": [],
     "id": "",
     "n": "34"
    },
    "slideshow": {
     "slide_type": "fragment"
    }
   },
   "outputs": [
    {
     "data": {
      "text/plain": [
       "\n",
       "[[0.         0.         0.        ]\n",
       " [0.01030675 0.         0.        ]]\n",
       "<NDArray 2x3 @cpu(0)>"
      ]
     },
     "execution_count": 7,
     "metadata": {},
     "output_type": "execute_result"
    }
   ],
   "source": [
    "output = layer(x)\n",
    "output"
   ]
  },
  {
   "cell_type": "code",
   "execution_count": 8,
   "metadata": {
    "slideshow": {
     "slide_type": "fragment"
    }
   },
   "outputs": [
    {
     "data": {
      "text/plain": [
       "dense0_ (\n",
       "  Parameter dense0_weight (shape=(3L, 4L), dtype=float32)\n",
       "  Parameter dense0_bias (shape=(3L,), dtype=float32)\n",
       ")"
      ]
     },
     "execution_count": 8,
     "metadata": {},
     "output_type": "execute_result"
    }
   ],
   "source": [
    "layer.params"
   ]
  },
  {
   "cell_type": "markdown",
   "metadata": {
    "slideshow": {
     "slide_type": "notes"
    }
   },
   "source": [
    "As can be seen, the layer's input limit of 2 produced a $(3,2)$ shape output from our $(3,4)$ input. Note that we didn't specify the input size of `layer` before (though we can specify it with the argument `in_units=4` here), the system will automatically infer it during the first time we feed in data, create and initialize the weights. So we can access the weight after the first forward pass:"
   ]
  },
  {
   "cell_type": "markdown",
   "metadata": {
    "slideshow": {
     "slide_type": "slide"
    }
   },
   "source": [
    "Weights"
   ]
  },
  {
   "cell_type": "code",
   "execution_count": 9,
   "metadata": {
    "attributes": {
     "classes": [],
     "id": "",
     "n": "35"
    },
    "slideshow": {
     "slide_type": "fragment"
    }
   },
   "outputs": [
    {
     "data": {
      "text/plain": [
       "\n",
       "[[-0.14136386  0.22879553  0.2701434  -0.2140835 ]\n",
       " [-0.11556607 -0.37489307  0.7254226  -0.82080805]\n",
       " [ 0.8585366  -0.42095876 -0.21582437 -0.04135615]]\n",
       "<NDArray 3x4 @cpu(0)>"
      ]
     },
     "execution_count": 9,
     "metadata": {},
     "output_type": "execute_result"
    }
   ],
   "source": [
    "layer.weight.data()"
   ]
  },
  {
   "cell_type": "markdown",
   "metadata": {
    "slideshow": {
     "slide_type": "slide"
    }
   },
   "source": [
    "## Chain layers into a neural network"
   ]
  },
  {
   "cell_type": "markdown",
   "metadata": {
    "slideshow": {
     "slide_type": "notes"
    }
   },
   "source": [
    "Let's first consider a simple case that a neural network is a chain of layers. During the forward pass, we run layers sequentially one-by-one. The following code implements a famous network called [LeNet](http://yann.lecun.com/exdb/lenet/) through `nn.Sequential`."
   ]
  },
  {
   "cell_type": "markdown",
   "metadata": {
    "slideshow": {
     "slide_type": "fragment"
    }
   },
   "source": [
    "<center><img src=\"../support/lenet.jpg\"></center>"
   ]
  },
  {
   "cell_type": "code",
   "execution_count": 10,
   "metadata": {
    "slideshow": {
     "slide_type": "slide"
    }
   },
   "outputs": [
    {
     "data": {
      "text/plain": [
       "Sequential(\n",
       "  (0): Conv2D(None -> 6, kernel_size=(5, 5), stride=(1, 1))\n",
       "  (1): MaxPool2D(size=(2, 2), stride=(2, 2), padding=(0, 0), ceil_mode=False)\n",
       "  (2): Conv2D(None -> 16, kernel_size=(5, 5), stride=(1, 1))\n",
       "  (3): MaxPool2D(size=(2, 2), stride=(2, 2), padding=(0, 0), ceil_mode=False)\n",
       "  (4): Flatten\n",
       "  (5): Dense(None -> 120, Activation(relu))\n",
       "  (6): Dense(None -> 84, Activation(relu))\n",
       "  (7): Dense(None -> 10, linear)\n",
       ")"
      ]
     },
     "execution_count": 10,
     "metadata": {},
     "output_type": "execute_result"
    }
   ],
   "source": [
    "net = nn.Sequential()\n",
    "with net.name_scope():\n",
    "    # Add a sequence of layers.\n",
    "    net.add(\n",
    "        nn.Conv2D(channels=6, kernel_size=(5, 5), activation='relu'),\n",
    "        nn.MaxPool2D(pool_size=2, strides=2),\n",
    "        nn.Conv2D(channels=16, kernel_size=5, activation='relu'),\n",
    "        nn.MaxPool2D(pool_size=2, strides=2),\n",
    "        nn.Flatten(),\n",
    "   \n",
    "        nn.Dense(120, activation=\"relu\"),\n",
    "        nn.Dense(84, activation=\"relu\"),\n",
    "        \n",
    "        nn.Dense(10)\n",
    "    )\n",
    "net"
   ]
  },
  {
   "cell_type": "code",
   "execution_count": 11,
   "metadata": {
    "scrolled": false,
    "slideshow": {
     "slide_type": "slide"
    }
   },
   "outputs": [
    {
     "data": {
      "image/svg+xml": [
       "<?xml version=\"1.0\" encoding=\"UTF-8\" standalone=\"no\"?>\n",
       "<!DOCTYPE svg PUBLIC \"-//W3C//DTD SVG 1.1//EN\"\n",
       " \"http://www.w3.org/Graphics/SVG/1.1/DTD/svg11.dtd\">\n",
       "<!-- Generated by graphviz version 2.40.1 (20161225.0304)\n",
       " -->\n",
       "<!-- Title: plot Pages: 1 -->\n",
       "<svg width=\"200pt\" height=\"1362pt\"\n",
       " viewBox=\"0.00 0.00 200.10 1362.00\" xmlns=\"http://www.w3.org/2000/svg\" xmlns:xlink=\"http://www.w3.org/1999/xlink\">\n",
       "<g id=\"graph0\" class=\"graph\" transform=\"scale(1 1) rotate(0) translate(4 1358)\">\n",
       "<title>plot</title>\n",
       "<polygon fill=\"#ffffff\" stroke=\"transparent\" points=\"-4,4 -4,-1358 196.1009,-1358 196.1009,4 -4,4\"/>\n",
       "<!-- data -->\n",
       "<g id=\"node1\" class=\"node\">\n",
       "<title>data</title>\n",
       "<ellipse fill=\"#8dd3c7\" stroke=\"#000000\" cx=\"96.0505\" cy=\"-29\" rx=\"47\" ry=\"29\"/>\n",
       "<text text-anchor=\"middle\" x=\"96.0505\" y=\"-24.8\" font-family=\"Times,serif\" font-size=\"14.00\" fill=\"#000000\">data</text>\n",
       "</g>\n",
       "<!-- sequential0_conv0_fwd -->\n",
       "<g id=\"node2\" class=\"node\">\n",
       "<title>sequential0_conv0_fwd</title>\n",
       "<ellipse fill=\"#fb8072\" stroke=\"#000000\" cx=\"96.0505\" cy=\"-137\" rx=\"54.6951\" ry=\"29\"/>\n",
       "<text text-anchor=\"middle\" x=\"96.0505\" y=\"-139.8\" font-family=\"Times,serif\" font-size=\"14.00\" fill=\"#000000\">Convolution</text>\n",
       "<text text-anchor=\"middle\" x=\"96.0505\" y=\"-125.8\" font-family=\"Times,serif\" font-size=\"14.00\" fill=\"#000000\">5x5/1x1, 6</text>\n",
       "</g>\n",
       "<!-- sequential0_conv0_fwd&#45;&gt;data -->\n",
       "<g id=\"edge1\" class=\"edge\">\n",
       "<title>sequential0_conv0_fwd&#45;&gt;data</title>\n",
       "<path fill=\"none\" stroke=\"#000000\" d=\"M96.0505,-97.6567C96.0505,-84.6329 96.0505,-70.3785 96.0505,-58.2497\"/>\n",
       "<polygon fill=\"#000000\" stroke=\"#000000\" points=\"96.0505,-107.7736 91.5506,-97.7736 96.0505,-102.7736 96.0506,-97.7736 96.0506,-97.7736 96.0506,-97.7736 96.0505,-102.7736 100.5506,-97.7737 96.0505,-107.7736 96.0505,-107.7736\"/>\n",
       "<text text-anchor=\"middle\" x=\"120.5505\" y=\"-78.8\" font-family=\"Times,serif\" font-size=\"14.00\" fill=\"#000000\">1x28x28</text>\n",
       "</g>\n",
       "<!-- sequential0_conv0_relu_fwd -->\n",
       "<g id=\"node3\" class=\"node\">\n",
       "<title>sequential0_conv0_relu_fwd</title>\n",
       "<ellipse fill=\"#ffffb3\" stroke=\"#000000\" cx=\"96.0505\" cy=\"-245\" rx=\"47.78\" ry=\"29\"/>\n",
       "<text text-anchor=\"middle\" x=\"96.0505\" y=\"-247.8\" font-family=\"Times,serif\" font-size=\"14.00\" fill=\"#000000\">Activation</text>\n",
       "<text text-anchor=\"middle\" x=\"96.0505\" y=\"-233.8\" font-family=\"Times,serif\" font-size=\"14.00\" fill=\"#000000\">relu</text>\n",
       "</g>\n",
       "<!-- sequential0_conv0_relu_fwd&#45;&gt;sequential0_conv0_fwd -->\n",
       "<g id=\"edge2\" class=\"edge\">\n",
       "<title>sequential0_conv0_relu_fwd&#45;&gt;sequential0_conv0_fwd</title>\n",
       "<path fill=\"none\" stroke=\"#000000\" d=\"M96.0505,-205.6567C96.0505,-192.6329 96.0505,-178.3785 96.0505,-166.2497\"/>\n",
       "<polygon fill=\"#000000\" stroke=\"#000000\" points=\"96.0505,-215.7736 91.5506,-205.7736 96.0505,-210.7736 96.0506,-205.7736 96.0506,-205.7736 96.0506,-205.7736 96.0505,-210.7736 100.5506,-205.7737 96.0505,-215.7736 96.0505,-215.7736\"/>\n",
       "<text text-anchor=\"middle\" x=\"120.5505\" y=\"-186.8\" font-family=\"Times,serif\" font-size=\"14.00\" fill=\"#000000\">6x24x24</text>\n",
       "</g>\n",
       "<!-- sequential0_pool0_fwd -->\n",
       "<g id=\"node4\" class=\"node\">\n",
       "<title>sequential0_pool0_fwd</title>\n",
       "<ellipse fill=\"#80b1d3\" stroke=\"#000000\" cx=\"96.0505\" cy=\"-353\" rx=\"59.1059\" ry=\"29\"/>\n",
       "<text text-anchor=\"middle\" x=\"96.0505\" y=\"-355.8\" font-family=\"Times,serif\" font-size=\"14.00\" fill=\"#000000\">Pooling</text>\n",
       "<text text-anchor=\"middle\" x=\"96.0505\" y=\"-341.8\" font-family=\"Times,serif\" font-size=\"14.00\" fill=\"#000000\">max, 2x2/2x2</text>\n",
       "</g>\n",
       "<!-- sequential0_pool0_fwd&#45;&gt;sequential0_conv0_relu_fwd -->\n",
       "<g id=\"edge3\" class=\"edge\">\n",
       "<title>sequential0_pool0_fwd&#45;&gt;sequential0_conv0_relu_fwd</title>\n",
       "<path fill=\"none\" stroke=\"#000000\" d=\"M96.0505,-313.6567C96.0505,-300.6329 96.0505,-286.3785 96.0505,-274.2497\"/>\n",
       "<polygon fill=\"#000000\" stroke=\"#000000\" points=\"96.0505,-323.7736 91.5506,-313.7736 96.0505,-318.7736 96.0506,-313.7736 96.0506,-313.7736 96.0506,-313.7736 96.0505,-318.7736 100.5506,-313.7737 96.0505,-323.7736 96.0505,-323.7736\"/>\n",
       "<text text-anchor=\"middle\" x=\"120.5505\" y=\"-294.8\" font-family=\"Times,serif\" font-size=\"14.00\" fill=\"#000000\">6x24x24</text>\n",
       "</g>\n",
       "<!-- sequential0_conv1_fwd -->\n",
       "<g id=\"node5\" class=\"node\">\n",
       "<title>sequential0_conv1_fwd</title>\n",
       "<ellipse fill=\"#fb8072\" stroke=\"#000000\" cx=\"96.0505\" cy=\"-461\" rx=\"54.6951\" ry=\"29\"/>\n",
       "<text text-anchor=\"middle\" x=\"96.0505\" y=\"-463.8\" font-family=\"Times,serif\" font-size=\"14.00\" fill=\"#000000\">Convolution</text>\n",
       "<text text-anchor=\"middle\" x=\"96.0505\" y=\"-449.8\" font-family=\"Times,serif\" font-size=\"14.00\" fill=\"#000000\">5x5/1x1, 16</text>\n",
       "</g>\n",
       "<!-- sequential0_conv1_fwd&#45;&gt;sequential0_pool0_fwd -->\n",
       "<g id=\"edge4\" class=\"edge\">\n",
       "<title>sequential0_conv1_fwd&#45;&gt;sequential0_pool0_fwd</title>\n",
       "<path fill=\"none\" stroke=\"#000000\" d=\"M96.0505,-421.6567C96.0505,-408.6329 96.0505,-394.3785 96.0505,-382.2497\"/>\n",
       "<polygon fill=\"#000000\" stroke=\"#000000\" points=\"96.0505,-431.7736 91.5506,-421.7736 96.0505,-426.7736 96.0506,-421.7736 96.0506,-421.7736 96.0506,-421.7736 96.0505,-426.7736 100.5506,-421.7737 96.0505,-431.7736 96.0505,-431.7736\"/>\n",
       "<text text-anchor=\"middle\" x=\"120.5505\" y=\"-402.8\" font-family=\"Times,serif\" font-size=\"14.00\" fill=\"#000000\">6x12x12</text>\n",
       "</g>\n",
       "<!-- sequential0_conv1_relu_fwd -->\n",
       "<g id=\"node6\" class=\"node\">\n",
       "<title>sequential0_conv1_relu_fwd</title>\n",
       "<ellipse fill=\"#ffffb3\" stroke=\"#000000\" cx=\"96.0505\" cy=\"-569\" rx=\"47.78\" ry=\"29\"/>\n",
       "<text text-anchor=\"middle\" x=\"96.0505\" y=\"-571.8\" font-family=\"Times,serif\" font-size=\"14.00\" fill=\"#000000\">Activation</text>\n",
       "<text text-anchor=\"middle\" x=\"96.0505\" y=\"-557.8\" font-family=\"Times,serif\" font-size=\"14.00\" fill=\"#000000\">relu</text>\n",
       "</g>\n",
       "<!-- sequential0_conv1_relu_fwd&#45;&gt;sequential0_conv1_fwd -->\n",
       "<g id=\"edge5\" class=\"edge\">\n",
       "<title>sequential0_conv1_relu_fwd&#45;&gt;sequential0_conv1_fwd</title>\n",
       "<path fill=\"none\" stroke=\"#000000\" d=\"M96.0505,-529.6567C96.0505,-516.6329 96.0505,-502.3785 96.0505,-490.2497\"/>\n",
       "<polygon fill=\"#000000\" stroke=\"#000000\" points=\"96.0505,-539.7736 91.5506,-529.7736 96.0505,-534.7736 96.0506,-529.7736 96.0506,-529.7736 96.0506,-529.7736 96.0505,-534.7736 100.5506,-529.7737 96.0505,-539.7736 96.0505,-539.7736\"/>\n",
       "<text text-anchor=\"middle\" x=\"117.0505\" y=\"-510.8\" font-family=\"Times,serif\" font-size=\"14.00\" fill=\"#000000\">16x8x8</text>\n",
       "</g>\n",
       "<!-- sequential0_pool1_fwd -->\n",
       "<g id=\"node7\" class=\"node\">\n",
       "<title>sequential0_pool1_fwd</title>\n",
       "<ellipse fill=\"#80b1d3\" stroke=\"#000000\" cx=\"96.0505\" cy=\"-677\" rx=\"59.1059\" ry=\"29\"/>\n",
       "<text text-anchor=\"middle\" x=\"96.0505\" y=\"-679.8\" font-family=\"Times,serif\" font-size=\"14.00\" fill=\"#000000\">Pooling</text>\n",
       "<text text-anchor=\"middle\" x=\"96.0505\" y=\"-665.8\" font-family=\"Times,serif\" font-size=\"14.00\" fill=\"#000000\">max, 2x2/2x2</text>\n",
       "</g>\n",
       "<!-- sequential0_pool1_fwd&#45;&gt;sequential0_conv1_relu_fwd -->\n",
       "<g id=\"edge6\" class=\"edge\">\n",
       "<title>sequential0_pool1_fwd&#45;&gt;sequential0_conv1_relu_fwd</title>\n",
       "<path fill=\"none\" stroke=\"#000000\" d=\"M96.0505,-637.6567C96.0505,-624.6329 96.0505,-610.3785 96.0505,-598.2497\"/>\n",
       "<polygon fill=\"#000000\" stroke=\"#000000\" points=\"96.0505,-647.7736 91.5506,-637.7736 96.0505,-642.7736 96.0506,-637.7736 96.0506,-637.7736 96.0506,-637.7736 96.0505,-642.7736 100.5506,-637.7737 96.0505,-647.7736 96.0505,-647.7736\"/>\n",
       "<text text-anchor=\"middle\" x=\"117.0505\" y=\"-618.8\" font-family=\"Times,serif\" font-size=\"14.00\" fill=\"#000000\">16x8x8</text>\n",
       "</g>\n",
       "<!-- sequential0_flatten0_flatten0 -->\n",
       "<g id=\"node8\" class=\"node\">\n",
       "<title>sequential0_flatten0_flatten0</title>\n",
       "<ellipse fill=\"#fdb462\" stroke=\"#000000\" cx=\"96.0505\" cy=\"-785\" rx=\"96.1009\" ry=\"29\"/>\n",
       "<text text-anchor=\"middle\" x=\"96.0505\" y=\"-780.8\" font-family=\"Times,serif\" font-size=\"14.00\" fill=\"#000000\">sequential0_flatten0_flatten0</text>\n",
       "</g>\n",
       "<!-- sequential0_flatten0_flatten0&#45;&gt;sequential0_pool1_fwd -->\n",
       "<g id=\"edge7\" class=\"edge\">\n",
       "<title>sequential0_flatten0_flatten0&#45;&gt;sequential0_pool1_fwd</title>\n",
       "<path fill=\"none\" stroke=\"#000000\" d=\"M96.0505,-745.6567C96.0505,-732.6329 96.0505,-718.3785 96.0505,-706.2497\"/>\n",
       "<polygon fill=\"#000000\" stroke=\"#000000\" points=\"96.0505,-755.7736 91.5506,-745.7736 96.0505,-750.7736 96.0506,-745.7736 96.0506,-745.7736 96.0506,-745.7736 96.0505,-750.7736 100.5506,-745.7737 96.0505,-755.7736 96.0505,-755.7736\"/>\n",
       "<text text-anchor=\"middle\" x=\"117.0505\" y=\"-726.8\" font-family=\"Times,serif\" font-size=\"14.00\" fill=\"#000000\">16x4x4</text>\n",
       "</g>\n",
       "<!-- sequential0_dense0_fwd -->\n",
       "<g id=\"node9\" class=\"node\">\n",
       "<title>sequential0_dense0_fwd</title>\n",
       "<ellipse fill=\"#fb8072\" stroke=\"#000000\" cx=\"96.0505\" cy=\"-893\" rx=\"67.474\" ry=\"29\"/>\n",
       "<text text-anchor=\"middle\" x=\"96.0505\" y=\"-895.8\" font-family=\"Times,serif\" font-size=\"14.00\" fill=\"#000000\">FullyConnected</text>\n",
       "<text text-anchor=\"middle\" x=\"96.0505\" y=\"-881.8\" font-family=\"Times,serif\" font-size=\"14.00\" fill=\"#000000\">120</text>\n",
       "</g>\n",
       "<!-- sequential0_dense0_fwd&#45;&gt;sequential0_flatten0_flatten0 -->\n",
       "<g id=\"edge8\" class=\"edge\">\n",
       "<title>sequential0_dense0_fwd&#45;&gt;sequential0_flatten0_flatten0</title>\n",
       "<path fill=\"none\" stroke=\"#000000\" d=\"M96.0505,-853.6567C96.0505,-840.6329 96.0505,-826.3785 96.0505,-814.2497\"/>\n",
       "<polygon fill=\"#000000\" stroke=\"#000000\" points=\"96.0505,-863.7736 91.5506,-853.7736 96.0505,-858.7736 96.0506,-853.7736 96.0506,-853.7736 96.0506,-853.7736 96.0505,-858.7736 100.5506,-853.7737 96.0505,-863.7736 96.0505,-863.7736\"/>\n",
       "<text text-anchor=\"middle\" x=\"106.5505\" y=\"-834.8\" font-family=\"Times,serif\" font-size=\"14.00\" fill=\"#000000\">256</text>\n",
       "</g>\n",
       "<!-- sequential0_dense0_relu_fwd -->\n",
       "<g id=\"node10\" class=\"node\">\n",
       "<title>sequential0_dense0_relu_fwd</title>\n",
       "<ellipse fill=\"#ffffb3\" stroke=\"#000000\" cx=\"96.0505\" cy=\"-1001\" rx=\"47.78\" ry=\"29\"/>\n",
       "<text text-anchor=\"middle\" x=\"96.0505\" y=\"-1003.8\" font-family=\"Times,serif\" font-size=\"14.00\" fill=\"#000000\">Activation</text>\n",
       "<text text-anchor=\"middle\" x=\"96.0505\" y=\"-989.8\" font-family=\"Times,serif\" font-size=\"14.00\" fill=\"#000000\">relu</text>\n",
       "</g>\n",
       "<!-- sequential0_dense0_relu_fwd&#45;&gt;sequential0_dense0_fwd -->\n",
       "<g id=\"edge9\" class=\"edge\">\n",
       "<title>sequential0_dense0_relu_fwd&#45;&gt;sequential0_dense0_fwd</title>\n",
       "<path fill=\"none\" stroke=\"#000000\" d=\"M96.0505,-961.6567C96.0505,-948.6329 96.0505,-934.3785 96.0505,-922.2497\"/>\n",
       "<polygon fill=\"#000000\" stroke=\"#000000\" points=\"96.0505,-971.7736 91.5506,-961.7736 96.0505,-966.7736 96.0506,-961.7736 96.0506,-961.7736 96.0506,-961.7736 96.0505,-966.7736 100.5506,-961.7737 96.0505,-971.7736 96.0505,-971.7736\"/>\n",
       "<text text-anchor=\"middle\" x=\"106.5505\" y=\"-942.8\" font-family=\"Times,serif\" font-size=\"14.00\" fill=\"#000000\">120</text>\n",
       "</g>\n",
       "<!-- sequential0_dense1_fwd -->\n",
       "<g id=\"node11\" class=\"node\">\n",
       "<title>sequential0_dense1_fwd</title>\n",
       "<ellipse fill=\"#fb8072\" stroke=\"#000000\" cx=\"96.0505\" cy=\"-1109\" rx=\"67.474\" ry=\"29\"/>\n",
       "<text text-anchor=\"middle\" x=\"96.0505\" y=\"-1111.8\" font-family=\"Times,serif\" font-size=\"14.00\" fill=\"#000000\">FullyConnected</text>\n",
       "<text text-anchor=\"middle\" x=\"96.0505\" y=\"-1097.8\" font-family=\"Times,serif\" font-size=\"14.00\" fill=\"#000000\">84</text>\n",
       "</g>\n",
       "<!-- sequential0_dense1_fwd&#45;&gt;sequential0_dense0_relu_fwd -->\n",
       "<g id=\"edge10\" class=\"edge\">\n",
       "<title>sequential0_dense1_fwd&#45;&gt;sequential0_dense0_relu_fwd</title>\n",
       "<path fill=\"none\" stroke=\"#000000\" d=\"M96.0505,-1069.6567C96.0505,-1056.6329 96.0505,-1042.3785 96.0505,-1030.2497\"/>\n",
       "<polygon fill=\"#000000\" stroke=\"#000000\" points=\"96.0505,-1079.7736 91.5506,-1069.7736 96.0505,-1074.7736 96.0506,-1069.7736 96.0506,-1069.7736 96.0506,-1069.7736 96.0505,-1074.7736 100.5506,-1069.7737 96.0505,-1079.7736 96.0505,-1079.7736\"/>\n",
       "<text text-anchor=\"middle\" x=\"106.5505\" y=\"-1050.8\" font-family=\"Times,serif\" font-size=\"14.00\" fill=\"#000000\">120</text>\n",
       "</g>\n",
       "<!-- sequential0_dense1_relu_fwd -->\n",
       "<g id=\"node12\" class=\"node\">\n",
       "<title>sequential0_dense1_relu_fwd</title>\n",
       "<ellipse fill=\"#ffffb3\" stroke=\"#000000\" cx=\"96.0505\" cy=\"-1217\" rx=\"47.78\" ry=\"29\"/>\n",
       "<text text-anchor=\"middle\" x=\"96.0505\" y=\"-1219.8\" font-family=\"Times,serif\" font-size=\"14.00\" fill=\"#000000\">Activation</text>\n",
       "<text text-anchor=\"middle\" x=\"96.0505\" y=\"-1205.8\" font-family=\"Times,serif\" font-size=\"14.00\" fill=\"#000000\">relu</text>\n",
       "</g>\n",
       "<!-- sequential0_dense1_relu_fwd&#45;&gt;sequential0_dense1_fwd -->\n",
       "<g id=\"edge11\" class=\"edge\">\n",
       "<title>sequential0_dense1_relu_fwd&#45;&gt;sequential0_dense1_fwd</title>\n",
       "<path fill=\"none\" stroke=\"#000000\" d=\"M96.0505,-1177.6567C96.0505,-1164.6329 96.0505,-1150.3785 96.0505,-1138.2497\"/>\n",
       "<polygon fill=\"#000000\" stroke=\"#000000\" points=\"96.0505,-1187.7736 91.5506,-1177.7736 96.0505,-1182.7736 96.0506,-1177.7736 96.0506,-1177.7736 96.0506,-1177.7736 96.0505,-1182.7736 100.5506,-1177.7737 96.0505,-1187.7736 96.0505,-1187.7736\"/>\n",
       "<text text-anchor=\"middle\" x=\"103.0505\" y=\"-1158.8\" font-family=\"Times,serif\" font-size=\"14.00\" fill=\"#000000\">84</text>\n",
       "</g>\n",
       "<!-- sequential0_dense2_fwd -->\n",
       "<g id=\"node13\" class=\"node\">\n",
       "<title>sequential0_dense2_fwd</title>\n",
       "<ellipse fill=\"#fb8072\" stroke=\"#000000\" cx=\"96.0505\" cy=\"-1325\" rx=\"67.474\" ry=\"29\"/>\n",
       "<text text-anchor=\"middle\" x=\"96.0505\" y=\"-1327.8\" font-family=\"Times,serif\" font-size=\"14.00\" fill=\"#000000\">FullyConnected</text>\n",
       "<text text-anchor=\"middle\" x=\"96.0505\" y=\"-1313.8\" font-family=\"Times,serif\" font-size=\"14.00\" fill=\"#000000\">10</text>\n",
       "</g>\n",
       "<!-- sequential0_dense2_fwd&#45;&gt;sequential0_dense1_relu_fwd -->\n",
       "<g id=\"edge12\" class=\"edge\">\n",
       "<title>sequential0_dense2_fwd&#45;&gt;sequential0_dense1_relu_fwd</title>\n",
       "<path fill=\"none\" stroke=\"#000000\" d=\"M96.0505,-1285.6567C96.0505,-1272.6329 96.0505,-1258.3785 96.0505,-1246.2497\"/>\n",
       "<polygon fill=\"#000000\" stroke=\"#000000\" points=\"96.0505,-1295.7736 91.5506,-1285.7736 96.0505,-1290.7736 96.0506,-1285.7736 96.0506,-1285.7736 96.0506,-1285.7736 96.0505,-1290.7736 100.5506,-1285.7737 96.0505,-1295.7736 96.0505,-1295.7736\"/>\n",
       "<text text-anchor=\"middle\" x=\"103.0505\" y=\"-1266.8\" font-family=\"Times,serif\" font-size=\"14.00\" fill=\"#000000\">84</text>\n",
       "</g>\n",
       "</g>\n",
       "</svg>\n"
      ],
      "text/plain": [
       "<graphviz.dot.Digraph at 0x1a1c930190>"
      ]
     },
     "execution_count": 11,
     "metadata": {},
     "output_type": "execute_result"
    }
   ],
   "source": [
    "mx.viz.plot_network(net(mx.sym.var('data')), \n",
    "                    shape={\"data\":(1, 1, 28, 28)},\n",
    "                    node_attrs={\"shape\":\"oval\",\"fixedsize\":\"False\"},\n",
    "                   )"
   ]
  },
  {
   "cell_type": "markdown",
   "metadata": {
    "slideshow": {
     "slide_type": "slide"
    }
   },
   "source": [
    "## Blocks\n",
    "In Gluon, Each layer is a Block and these blocks can be stacked together to create a Neural Network. You can also create a CustomBlock that does not have to layered on top of each other."
   ]
  },
  {
   "cell_type": "markdown",
   "metadata": {
    "slideshow": {
     "slide_type": "fragment"
    }
   },
   "source": [
    "## Hybrid Blocks\n",
    "HybridBlocks allows to write custom layers that can be used in imperative programming as well as symbolic programming.  \n",
    "Hybridization is a process in MXNet to create symbolic graph of a forward computation. Once the graph is computed, its cached and reused for subsequent computations.\n",
    "Symbolic graphs provide faster computation speed which are often necessary for Inference"
   ]
  },
  {
   "cell_type": "markdown",
   "metadata": {
    "slideshow": {
     "slide_type": "notes"
    }
   },
   "source": [
    "<!--Mention the tuple option for kernel and stride as an exercise for the reader? Or leave it out as too much info for now?-->\n",
    "\n",
    "The usage of `nn.Sequential` is similar to `nn.Dense`. In fact, both of them are subclasses of `nn.Block`. The following codes show how to initialize the weights and run the forward pass."
   ]
  },
  {
   "cell_type": "markdown",
   "metadata": {
    "slideshow": {
     "slide_type": "slide"
    }
   },
   "source": [
    "Run network"
   ]
  },
  {
   "cell_type": "code",
   "execution_count": 12,
   "metadata": {
    "slideshow": {
     "slide_type": "fragment"
    }
   },
   "outputs": [
    {
     "data": {
      "text/plain": [
       "(4L, 10L)"
      ]
     },
     "execution_count": 12,
     "metadata": {},
     "output_type": "execute_result"
    }
   ],
   "source": [
    "net.initialize()\n",
    "# Input shape is (batch_size, color_channels, height, width)\n",
    "x = nd.random.uniform(shape=(4, 1, 28, 28))\n",
    "y = net(x)\n",
    "y.shape"
   ]
  },
  {
   "cell_type": "markdown",
   "metadata": {
    "slideshow": {
     "slide_type": "notes"
    }
   },
   "source": [
    "We can use `[]` to index a particular layer. For example, the following\n",
    "accesses the 1st layer's weight and 6th layer's bias."
   ]
  },
  {
   "cell_type": "markdown",
   "metadata": {
    "slideshow": {
     "slide_type": "slide"
    }
   },
   "source": [
    "Specific layer"
   ]
  },
  {
   "cell_type": "code",
   "execution_count": 13,
   "metadata": {},
   "outputs": [
    {
     "data": {
      "text/plain": [
       "Sequential(\n",
       "  (0): Conv2D(1 -> 6, kernel_size=(5, 5), stride=(1, 1))\n",
       "  (1): MaxPool2D(size=(2, 2), stride=(2, 2), padding=(0, 0), ceil_mode=False)\n",
       "  (2): Conv2D(6 -> 16, kernel_size=(5, 5), stride=(1, 1))\n",
       "  (3): MaxPool2D(size=(2, 2), stride=(2, 2), padding=(0, 0), ceil_mode=False)\n",
       "  (4): Flatten\n",
       "  (5): Dense(256 -> 120, Activation(relu))\n",
       "  (6): Dense(120 -> 84, Activation(relu))\n",
       "  (7): Dense(84 -> 10, linear)\n",
       ")"
      ]
     },
     "execution_count": 13,
     "metadata": {},
     "output_type": "execute_result"
    }
   ],
   "source": [
    "net"
   ]
  },
  {
   "cell_type": "code",
   "execution_count": 14,
   "metadata": {
    "slideshow": {
     "slide_type": "fragment"
    }
   },
   "outputs": [
    {
     "data": {
      "text/plain": [
       "'First Conv2D layer weight shape (6L, 1L, 5L, 5L)'"
      ]
     },
     "execution_count": 14,
     "metadata": {},
     "output_type": "execute_result"
    }
   ],
   "source": [
    "\"First Conv2D layer weight shape {}\".format(net[0].weight.data().shape)"
   ]
  },
  {
   "cell_type": "markdown",
   "metadata": {
    "slideshow": {
     "slide_type": "slide"
    }
   },
   "source": [
    "## Create a neural network flexibly"
   ]
  },
  {
   "cell_type": "markdown",
   "metadata": {
    "slideshow": {
     "slide_type": "slide"
    }
   },
   "source": [
    "In `nn.Sequential`, MXNet will automatically construct the forward function that sequentially executes added layers.\n",
    "Now let's introduce another way to construct a network with a flexible forward function.\n",
    "\n",
    "To do it, we create a subclass of `nn.Block` and implement two methods:\n",
    "\n",
    "- `__init__` create the layers\n",
    "- `forward` define the forward function."
   ]
  },
  {
   "cell_type": "code",
   "execution_count": 15,
   "metadata": {
    "attributes": {
     "classes": [],
     "id": "",
     "n": "6"
    },
    "slideshow": {
     "slide_type": "fragment"
    }
   },
   "outputs": [
    {
     "data": {
      "text/plain": [
       "MixMLP(\n",
       "  (features): Sequential(\n",
       "    (0): Dense(None -> 3, Activation(relu))\n",
       "    (1): Dense(None -> 4, Activation(relu))\n",
       "  )\n",
       "  (output): Dense(None -> 5, linear)\n",
       ")"
      ]
     },
     "execution_count": 15,
     "metadata": {},
     "output_type": "execute_result"
    }
   ],
   "source": [
    "class MixMLP(nn.Block):\n",
    "    def __init__(self, **kwargs):\n",
    "        super(MixMLP, self).__init__(**kwargs)\n",
    "        with self.name_scope():\n",
    "            self.features = nn.Sequential()\n",
    "\n",
    "            self.features.add(\n",
    "                nn.Dense(3, activation='relu'),\n",
    "                nn.Dense(4, activation='relu')\n",
    "            )\n",
    "            self.output = nn.Dense(5)\n",
    "            \n",
    "    def forward(self, x):\n",
    "        y = self.features(x)\n",
    "        print(\"Features\", y)\n",
    "        return self.output(y)\n",
    "\n",
    "net2 = MixMLP()\n",
    "net2"
   ]
  },
  {
   "cell_type": "markdown",
   "metadata": {
    "slideshow": {
     "slide_type": "notes"
    }
   },
   "source": [
    "In the sequential chaining approach, we can only add instances with `nn.Block` as the base class and then run them in a forward pass. In this example, we used `print` to get the intermediate results and `nd.relu` to apply relu activation. So this approach provides a more flexible way to define the forward function.\n",
    "\n",
    "The usage of `net` is similar as before."
   ]
  },
  {
   "cell_type": "markdown",
   "metadata": {
    "slideshow": {
     "slide_type": "slide"
    }
   },
   "source": [
    "Print statements"
   ]
  },
  {
   "cell_type": "code",
   "execution_count": 16,
   "metadata": {
    "slideshow": {
     "slide_type": "fragment"
    }
   },
   "outputs": [],
   "source": [
    "net2.initialize()"
   ]
  },
  {
   "cell_type": "code",
   "execution_count": 17,
   "metadata": {
    "slideshow": {
     "slide_type": "fragment"
    }
   },
   "outputs": [
    {
     "name": "stdout",
     "output_type": "stream",
     "text": [
      "('Features', \n",
      "[[0.         0.         0.00099604 0.00059687]\n",
      " [0.         0.         0.00079099 0.000474  ]]\n",
      "<NDArray 2x4 @cpu(0)>)\n"
     ]
    }
   ],
   "source": [
    "x = nd.random.uniform(shape=(2,2))\n",
    "out = net2(x)"
   ]
  },
  {
   "cell_type": "markdown",
   "metadata": {
    "slideshow": {
     "slide_type": "notes"
    }
   },
   "source": [
    "Finally, let's access a particular layer's weight"
   ]
  },
  {
   "cell_type": "markdown",
   "metadata": {
    "slideshow": {
     "slide_type": "slide"
    }
   },
   "source": [
    "Weight access"
   ]
  },
  {
   "cell_type": "code",
   "execution_count": 18,
   "metadata": {
    "attributes": {
     "classes": [],
     "id": "",
     "n": "8"
    },
    "slideshow": {
     "slide_type": "fragment"
    }
   },
   "outputs": [
    {
     "data": {
      "text/plain": [
       "\n",
       "[[-0.06187592 -0.06210143 -0.00918167]\n",
       " [-0.00170272 -0.02634858  0.05334064]\n",
       " [ 0.02748809  0.06669661 -0.01711474]\n",
       " [ 0.01647211 -0.04485548  0.00594983]]\n",
       "<NDArray 4x3 @cpu(0)>"
      ]
     },
     "execution_count": 18,
     "metadata": {},
     "output_type": "execute_result"
    }
   ],
   "source": [
    "net2.features[1].weight.data()"
   ]
  }
 ],
 "metadata": {
  "celltoolbar": "Slideshow",
  "kernelspec": {
   "display_name": "Python 3",
   "language": "python",
   "name": "python3"
  },
  "language_info": {
   "codemirror_mode": {
    "name": "ipython",
    "version": 2
   },
   "file_extension": ".py",
   "mimetype": "text/x-python",
   "name": "python",
   "nbconvert_exporter": "python",
   "pygments_lexer": "ipython2",
   "version": "2.7.15"
  }
 },
 "nbformat": 4,
 "nbformat_minor": 2
}
