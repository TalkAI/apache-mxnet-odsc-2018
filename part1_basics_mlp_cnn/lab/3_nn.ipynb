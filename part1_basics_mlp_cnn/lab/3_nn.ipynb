{
 "cells": [
  {
   "cell_type": "code",
   "execution_count": 38,
   "metadata": {
    "slideshow": {
     "slide_type": "skip"
    }
   },
   "outputs": [],
   "source": [
    "\n",
    "import matplotlib.pyplot as plt\n",
    "import numpy as np\n",
    "import mxnet as mx\n",
    "from mxnet import nd\n",
    "from mxnet import gluon\n",
    "from mxnet import autograd\n",
    "from notebook.services.config import ConfigManager\n",
    "%matplotlib inline"
   ]
  },
  {
   "cell_type": "markdown",
   "metadata": {
    "slideshow": {
     "slide_type": "slide"
    }
   },
   "source": [
    "# Create a neural network"
   ]
  },
  {
   "cell_type": "markdown",
   "metadata": {
    "slideshow": {
     "slide_type": "notes"
    }
   },
   "source": [
    "Now let's look how to create neural networks in Gluon. In addition the NDArray package (`nd`) that we just covered, we now will also import the neural network `nn` package from `gluon`."
   ]
  },
  {
   "cell_type": "code",
   "execution_count": 39,
   "metadata": {
    "attributes": {
     "classes": [],
     "id": "",
     "n": "2"
    },
    "slideshow": {
     "slide_type": "fragment"
    }
   },
   "outputs": [],
   "source": [
    "import mxnet as mx\n",
    "\n",
    "from mxnet import nd\n",
    "from mxnet.gluon import nn"
   ]
  },
  {
   "cell_type": "markdown",
   "metadata": {
    "slideshow": {
     "slide_type": "slide"
    }
   },
   "source": [
    "## Create your first neural network layer"
   ]
  },
  {
   "cell_type": "markdown",
   "metadata": {
    "slideshow": {
     "slide_type": "notes"
    }
   },
   "source": [
    "Let's start with a dense layer with 2 output units.\n",
    "The None is because there hasn't been any data passed in yet"
   ]
  },
  {
   "cell_type": "markdown",
   "metadata": {
    "slideshow": {
     "slide_type": "fragment"
    }
   },
   "source": [
    "<center><img src=\"../support/fullyconnected.png\" width=400></center>"
   ]
  },
  {
   "cell_type": "code",
   "execution_count": 40,
   "metadata": {
    "attributes": {
     "classes": [],
     "id": "",
     "n": "31"
    },
    "slideshow": {
     "slide_type": "fragment"
    }
   },
   "outputs": [
    {
     "data": {
      "text/plain": [
       "Dense(None -> 3, Activation(relu))"
      ]
     },
     "execution_count": 40,
     "metadata": {},
     "output_type": "execute_result"
    }
   ],
   "source": [
    "layer = nn.Dense(3, activation=\"relu\")\n",
    "layer"
   ]
  },
  {
   "cell_type": "markdown",
   "metadata": {
    "slideshow": {
     "slide_type": "notes"
    }
   },
   "source": [
    "Then initialize its weights with the default initialization method, which draws random values uniformly from $[-0.7, 0.7]$."
   ]
  },
  {
   "cell_type": "markdown",
   "metadata": {
    "slideshow": {
     "slide_type": "slide"
    }
   },
   "source": [
    "Initialization"
   ]
  },
  {
   "cell_type": "code",
   "execution_count": 41,
   "metadata": {
    "slideshow": {
     "slide_type": "fragment"
    }
   },
   "outputs": [
    {
     "data": {
      "text/plain": [
       "dense3_ (\n",
       "  Parameter dense3_weight (shape=(3, 0), dtype=float32)\n",
       "  Parameter dense3_bias (shape=(3,), dtype=float32)\n",
       ")"
      ]
     },
     "execution_count": 41,
     "metadata": {},
     "output_type": "execute_result"
    }
   ],
   "source": [
    "layer.params"
   ]
  },
  {
   "cell_type": "code",
   "execution_count": 42,
   "metadata": {
    "attributes": {
     "classes": [],
     "id": "",
     "n": "32"
    },
    "slideshow": {
     "slide_type": "fragment"
    }
   },
   "outputs": [],
   "source": [
    "layer.initialize(mx.init.Xavier())"
   ]
  },
  {
   "cell_type": "markdown",
   "metadata": {
    "slideshow": {
     "slide_type": "notes"
    }
   },
   "source": [
    "Then we do a forward pass with random data. We create a $(3,4)$ shape random input `x` and feed into the layer to compute the output."
   ]
  },
  {
   "cell_type": "markdown",
   "metadata": {
    "slideshow": {
     "slide_type": "slide"
    }
   },
   "source": [
    "Forward with input `x`"
   ]
  },
  {
   "cell_type": "code",
   "execution_count": 43,
   "metadata": {
    "attributes": {
     "classes": [],
     "id": "",
     "n": "34"
    },
    "slideshow": {
     "slide_type": "fragment"
    }
   },
   "outputs": [
    {
     "data": {
      "text/plain": [
       "\n",
       "[[ 0.56646883  0.60367227 -0.42320299 -0.85910559]\n",
       " [-0.5171628   0.3671459   0.32500911 -0.23854148]]\n",
       "<NDArray 2x4 @cpu(0)>"
      ]
     },
     "execution_count": 43,
     "metadata": {},
     "output_type": "execute_result"
    }
   ],
   "source": [
    "N = 2\n",
    "x = nd.random.uniform(low=-1, high=1, shape=(N, 4))\n",
    "x"
   ]
  },
  {
   "cell_type": "code",
   "execution_count": 44,
   "metadata": {
    "attributes": {
     "classes": [],
     "id": "",
     "n": "34"
    },
    "slideshow": {
     "slide_type": "fragment"
    }
   },
   "outputs": [
    {
     "data": {
      "text/plain": [
       "\n",
       "[[ 0.          0.47696251  0.        ]\n",
       " [ 0.2454835   0.17938404  0.        ]]\n",
       "<NDArray 2x3 @cpu(0)>"
      ]
     },
     "execution_count": 44,
     "metadata": {},
     "output_type": "execute_result"
    }
   ],
   "source": [
    "output = layer(x)\n",
    "output"
   ]
  },
  {
   "cell_type": "code",
   "execution_count": 45,
   "metadata": {
    "slideshow": {
     "slide_type": "fragment"
    }
   },
   "outputs": [
    {
     "data": {
      "text/plain": [
       "dense3_ (\n",
       "  Parameter dense3_weight (shape=(3, 4), dtype=float32)\n",
       "  Parameter dense3_bias (shape=(3,), dtype=float32)\n",
       ")"
      ]
     },
     "execution_count": 45,
     "metadata": {},
     "output_type": "execute_result"
    }
   ],
   "source": [
    "layer.params"
   ]
  },
  {
   "cell_type": "markdown",
   "metadata": {
    "slideshow": {
     "slide_type": "notes"
    }
   },
   "source": [
    "As can be seen, the layer's input limit of 2 produced a $(3,2)$ shape output from our $(3,4)$ input. Note that we didn't specify the input size of `layer` before (though we can specify it with the argument `in_units=4` here), the system will automatically infer it during the first time we feed in data, create and initialize the weights. So we can access the weight after the first forward pass:"
   ]
  },
  {
   "cell_type": "markdown",
   "metadata": {
    "slideshow": {
     "slide_type": "slide"
    }
   },
   "source": [
    "Weights"
   ]
  },
  {
   "cell_type": "code",
   "execution_count": 46,
   "metadata": {
    "attributes": {
     "classes": [],
     "id": "",
     "n": "35"
    },
    "slideshow": {
     "slide_type": "fragment"
    }
   },
   "outputs": [
    {
     "data": {
      "text/plain": [
       "\n",
       "[[-0.47019961  0.24799204  0.30711138  0.79042649]\n",
       " [ 0.03204918  0.65536976 -0.14055991 -0.00429952]\n",
       " [ 0.10126209 -0.13362473 -0.39430398  0.59726405]]\n",
       "<NDArray 3x4 @cpu(0)>"
      ]
     },
     "execution_count": 46,
     "metadata": {},
     "output_type": "execute_result"
    }
   ],
   "source": [
    "layer.weight.data()"
   ]
  },
  {
   "cell_type": "markdown",
   "metadata": {
    "slideshow": {
     "slide_type": "slide"
    }
   },
   "source": [
    "## Chain layers into a neural network"
   ]
  },
  {
   "cell_type": "markdown",
   "metadata": {
    "slideshow": {
     "slide_type": "notes"
    }
   },
   "source": [
    "Let's first consider a simple case that a neural network is a chain of layers. During the forward pass, we run layers sequentially one-by-one. The following code implements a famous network called [LeNet](http://yann.lecun.com/exdb/lenet/) through `nn.Sequential`."
   ]
  },
  {
   "cell_type": "markdown",
   "metadata": {
    "slideshow": {
     "slide_type": "fragment"
    }
   },
   "source": [
    "<center><img src=\"../support/lenet.jpg\"></center>"
   ]
  },
  {
   "cell_type": "code",
   "execution_count": 47,
   "metadata": {
    "slideshow": {
     "slide_type": "slide"
    }
   },
   "outputs": [
    {
     "data": {
      "text/plain": [
       "Sequential(\n",
       "  (0): Conv2D(None -> 6, kernel_size=(5, 5), stride=(1, 1))\n",
       "  (1): MaxPool2D(size=(2, 2), stride=(2, 2), padding=(0, 0), ceil_mode=False)\n",
       "  (2): Conv2D(None -> 16, kernel_size=(5, 5), stride=(1, 1))\n",
       "  (3): MaxPool2D(size=(2, 2), stride=(2, 2), padding=(0, 0), ceil_mode=False)\n",
       "  (4): Flatten\n",
       "  (5): Dense(None -> 120, Activation(relu))\n",
       "  (6): Dense(None -> 84, Activation(relu))\n",
       "  (7): Dense(None -> 10, linear)\n",
       ")"
      ]
     },
     "execution_count": 47,
     "metadata": {},
     "output_type": "execute_result"
    }
   ],
   "source": [
    "net = nn.Sequential()\n",
    "with net.name_scope():\n",
    "    # Add a sequence of layers.\n",
    "    net.add(\n",
    "        nn.Conv2D(channels=6, kernel_size=(5, 5), activation='relu'),\n",
    "        nn.MaxPool2D(pool_size=2, strides=2),\n",
    "        nn.Conv2D(channels=16, kernel_size=5, activation='relu'),\n",
    "        nn.MaxPool2D(pool_size=2, strides=2),\n",
    "        nn.Flatten(),\n",
    "   \n",
    "        nn.Dense(120, activation=\"relu\"),\n",
    "        nn.Dense(84, activation=\"relu\"),\n",
    "        \n",
    "        nn.Dense(10)\n",
    "    )\n",
    "net"
   ]
  },
  {
   "cell_type": "code",
   "execution_count": 48,
   "metadata": {
    "scrolled": false,
    "slideshow": {
     "slide_type": "slide"
    }
   },
   "outputs": [
    {
     "data": {
      "image/svg+xml": [
       "<?xml version=\"1.0\" encoding=\"UTF-8\" standalone=\"no\"?>\n",
       "<!DOCTYPE svg PUBLIC \"-//W3C//DTD SVG 1.1//EN\"\n",
       " \"http://www.w3.org/Graphics/SVG/1.1/DTD/svg11.dtd\">\n",
       "<!-- Generated by graphviz version 2.40.1 (20161225.0304)\n",
       " -->\n",
       "<!-- Title: plot Pages: 1 -->\n",
       "<svg width=\"198pt\" height=\"1374pt\"\n",
       " viewBox=\"0.00 0.00 197.54 1374.00\" xmlns=\"http://www.w3.org/2000/svg\" xmlns:xlink=\"http://www.w3.org/1999/xlink\">\n",
       "<g id=\"graph0\" class=\"graph\" transform=\"scale(1 1) rotate(0) translate(4 1370)\">\n",
       "<title>plot</title>\n",
       "<polygon fill=\"#ffffff\" stroke=\"transparent\" points=\"-4,4 -4,-1370 193.5399,-1370 193.5399,4 -4,4\"/>\n",
       "<!-- data -->\n",
       "<g id=\"node1\" class=\"node\">\n",
       "<title>data</title>\n",
       "<ellipse fill=\"#8dd3c7\" stroke=\"#000000\" cx=\"94.77\" cy=\"-29\" rx=\"47\" ry=\"29\"/>\n",
       "<text text-anchor=\"middle\" x=\"94.77\" y=\"-25.3\" font-family=\"Times,serif\" font-size=\"14.00\" fill=\"#000000\">data</text>\n",
       "</g>\n",
       "<!-- sequential2_conv0_fwd -->\n",
       "<g id=\"node2\" class=\"node\">\n",
       "<title>sequential2_conv0_fwd</title>\n",
       "<ellipse fill=\"#fb8072\" stroke=\"#000000\" cx=\"94.77\" cy=\"-138\" rx=\"55.6878\" ry=\"29\"/>\n",
       "<text text-anchor=\"middle\" x=\"94.77\" y=\"-141.8\" font-family=\"Times,serif\" font-size=\"14.00\" fill=\"#000000\">Convolution</text>\n",
       "<text text-anchor=\"middle\" x=\"94.77\" y=\"-126.8\" font-family=\"Times,serif\" font-size=\"14.00\" fill=\"#000000\">5x5/1x1, 6</text>\n",
       "</g>\n",
       "<!-- sequential2_conv0_fwd&#45;&gt;data -->\n",
       "<g id=\"edge1\" class=\"edge\">\n",
       "<title>sequential2_conv0_fwd&#45;&gt;data</title>\n",
       "<path fill=\"none\" stroke=\"#000000\" d=\"M94.77,-98.4838C94.77,-85.2054 94.77,-70.6405 94.77,-58.2906\"/>\n",
       "<polygon fill=\"#000000\" stroke=\"#000000\" points=\"94.77,-108.79 90.2701,-98.79 94.77,-103.79 94.7701,-98.79 94.7701,-98.79 94.7701,-98.79 94.77,-103.79 99.2701,-98.79 94.77,-108.79 94.77,-108.79\"/>\n",
       "<text text-anchor=\"middle\" x=\"118.77\" y=\"-79.8\" font-family=\"Times,serif\" font-size=\"14.00\" fill=\"#000000\">1x28x28</text>\n",
       "</g>\n",
       "<!-- sequential2_conv0_relu_fwd -->\n",
       "<g id=\"node3\" class=\"node\">\n",
       "<title>sequential2_conv0_relu_fwd</title>\n",
       "<ellipse fill=\"#ffffb3\" stroke=\"#000000\" cx=\"94.77\" cy=\"-247\" rx=\"48.9511\" ry=\"29\"/>\n",
       "<text text-anchor=\"middle\" x=\"94.77\" y=\"-250.8\" font-family=\"Times,serif\" font-size=\"14.00\" fill=\"#000000\">Activation</text>\n",
       "<text text-anchor=\"middle\" x=\"94.77\" y=\"-235.8\" font-family=\"Times,serif\" font-size=\"14.00\" fill=\"#000000\">relu</text>\n",
       "</g>\n",
       "<!-- sequential2_conv0_relu_fwd&#45;&gt;sequential2_conv0_fwd -->\n",
       "<g id=\"edge2\" class=\"edge\">\n",
       "<title>sequential2_conv0_relu_fwd&#45;&gt;sequential2_conv0_fwd</title>\n",
       "<path fill=\"none\" stroke=\"#000000\" d=\"M94.77,-207.4838C94.77,-194.2054 94.77,-179.6405 94.77,-167.2906\"/>\n",
       "<polygon fill=\"#000000\" stroke=\"#000000\" points=\"94.77,-217.79 90.2701,-207.79 94.77,-212.79 94.7701,-207.79 94.7701,-207.79 94.7701,-207.79 94.77,-212.79 99.2701,-207.79 94.77,-217.79 94.77,-217.79\"/>\n",
       "<text text-anchor=\"middle\" x=\"118.77\" y=\"-188.8\" font-family=\"Times,serif\" font-size=\"14.00\" fill=\"#000000\">6x24x24</text>\n",
       "</g>\n",
       "<!-- sequential2_pool0_fwd -->\n",
       "<g id=\"node4\" class=\"node\">\n",
       "<title>sequential2_pool0_fwd</title>\n",
       "<ellipse fill=\"#80b1d3\" stroke=\"#000000\" cx=\"94.77\" cy=\"-356\" rx=\"60.7772\" ry=\"29\"/>\n",
       "<text text-anchor=\"middle\" x=\"94.77\" y=\"-359.8\" font-family=\"Times,serif\" font-size=\"14.00\" fill=\"#000000\">Pooling</text>\n",
       "<text text-anchor=\"middle\" x=\"94.77\" y=\"-344.8\" font-family=\"Times,serif\" font-size=\"14.00\" fill=\"#000000\">max, 2x2/2x2</text>\n",
       "</g>\n",
       "<!-- sequential2_pool0_fwd&#45;&gt;sequential2_conv0_relu_fwd -->\n",
       "<g id=\"edge3\" class=\"edge\">\n",
       "<title>sequential2_pool0_fwd&#45;&gt;sequential2_conv0_relu_fwd</title>\n",
       "<path fill=\"none\" stroke=\"#000000\" d=\"M94.77,-316.4838C94.77,-303.2054 94.77,-288.6405 94.77,-276.2906\"/>\n",
       "<polygon fill=\"#000000\" stroke=\"#000000\" points=\"94.77,-326.79 90.2701,-316.79 94.77,-321.79 94.7701,-316.79 94.7701,-316.79 94.7701,-316.79 94.77,-321.79 99.2701,-316.79 94.77,-326.79 94.77,-326.79\"/>\n",
       "<text text-anchor=\"middle\" x=\"118.77\" y=\"-297.8\" font-family=\"Times,serif\" font-size=\"14.00\" fill=\"#000000\">6x24x24</text>\n",
       "</g>\n",
       "<!-- sequential2_conv1_fwd -->\n",
       "<g id=\"node5\" class=\"node\">\n",
       "<title>sequential2_conv1_fwd</title>\n",
       "<ellipse fill=\"#fb8072\" stroke=\"#000000\" cx=\"94.77\" cy=\"-465\" rx=\"55.6878\" ry=\"29\"/>\n",
       "<text text-anchor=\"middle\" x=\"94.77\" y=\"-468.8\" font-family=\"Times,serif\" font-size=\"14.00\" fill=\"#000000\">Convolution</text>\n",
       "<text text-anchor=\"middle\" x=\"94.77\" y=\"-453.8\" font-family=\"Times,serif\" font-size=\"14.00\" fill=\"#000000\">5x5/1x1, 16</text>\n",
       "</g>\n",
       "<!-- sequential2_conv1_fwd&#45;&gt;sequential2_pool0_fwd -->\n",
       "<g id=\"edge4\" class=\"edge\">\n",
       "<title>sequential2_conv1_fwd&#45;&gt;sequential2_pool0_fwd</title>\n",
       "<path fill=\"none\" stroke=\"#000000\" d=\"M94.77,-425.4838C94.77,-412.2054 94.77,-397.6405 94.77,-385.2906\"/>\n",
       "<polygon fill=\"#000000\" stroke=\"#000000\" points=\"94.77,-435.79 90.2701,-425.79 94.77,-430.79 94.7701,-425.79 94.7701,-425.79 94.7701,-425.79 94.77,-430.79 99.2701,-425.79 94.77,-435.79 94.77,-435.79\"/>\n",
       "<text text-anchor=\"middle\" x=\"118.77\" y=\"-406.8\" font-family=\"Times,serif\" font-size=\"14.00\" fill=\"#000000\">6x12x12</text>\n",
       "</g>\n",
       "<!-- sequential2_conv1_relu_fwd -->\n",
       "<g id=\"node6\" class=\"node\">\n",
       "<title>sequential2_conv1_relu_fwd</title>\n",
       "<ellipse fill=\"#ffffb3\" stroke=\"#000000\" cx=\"94.77\" cy=\"-574\" rx=\"48.9511\" ry=\"29\"/>\n",
       "<text text-anchor=\"middle\" x=\"94.77\" y=\"-577.8\" font-family=\"Times,serif\" font-size=\"14.00\" fill=\"#000000\">Activation</text>\n",
       "<text text-anchor=\"middle\" x=\"94.77\" y=\"-562.8\" font-family=\"Times,serif\" font-size=\"14.00\" fill=\"#000000\">relu</text>\n",
       "</g>\n",
       "<!-- sequential2_conv1_relu_fwd&#45;&gt;sequential2_conv1_fwd -->\n",
       "<g id=\"edge5\" class=\"edge\">\n",
       "<title>sequential2_conv1_relu_fwd&#45;&gt;sequential2_conv1_fwd</title>\n",
       "<path fill=\"none\" stroke=\"#000000\" d=\"M94.77,-534.4838C94.77,-521.2054 94.77,-506.6405 94.77,-494.2906\"/>\n",
       "<polygon fill=\"#000000\" stroke=\"#000000\" points=\"94.77,-544.79 90.2701,-534.79 94.77,-539.79 94.7701,-534.79 94.7701,-534.79 94.7701,-534.79 94.77,-539.79 99.2701,-534.79 94.77,-544.79 94.77,-544.79\"/>\n",
       "<text text-anchor=\"middle\" x=\"115.27\" y=\"-515.8\" font-family=\"Times,serif\" font-size=\"14.00\" fill=\"#000000\">16x8x8</text>\n",
       "</g>\n",
       "<!-- sequential2_pool1_fwd -->\n",
       "<g id=\"node7\" class=\"node\">\n",
       "<title>sequential2_pool1_fwd</title>\n",
       "<ellipse fill=\"#80b1d3\" stroke=\"#000000\" cx=\"94.77\" cy=\"-683\" rx=\"60.7772\" ry=\"29\"/>\n",
       "<text text-anchor=\"middle\" x=\"94.77\" y=\"-686.8\" font-family=\"Times,serif\" font-size=\"14.00\" fill=\"#000000\">Pooling</text>\n",
       "<text text-anchor=\"middle\" x=\"94.77\" y=\"-671.8\" font-family=\"Times,serif\" font-size=\"14.00\" fill=\"#000000\">max, 2x2/2x2</text>\n",
       "</g>\n",
       "<!-- sequential2_pool1_fwd&#45;&gt;sequential2_conv1_relu_fwd -->\n",
       "<g id=\"edge6\" class=\"edge\">\n",
       "<title>sequential2_pool1_fwd&#45;&gt;sequential2_conv1_relu_fwd</title>\n",
       "<path fill=\"none\" stroke=\"#000000\" d=\"M94.77,-643.4838C94.77,-630.2054 94.77,-615.6405 94.77,-603.2906\"/>\n",
       "<polygon fill=\"#000000\" stroke=\"#000000\" points=\"94.77,-653.79 90.2701,-643.79 94.77,-648.79 94.7701,-643.79 94.7701,-643.79 94.7701,-643.79 94.77,-648.79 99.2701,-643.79 94.77,-653.79 94.77,-653.79\"/>\n",
       "<text text-anchor=\"middle\" x=\"115.27\" y=\"-624.8\" font-family=\"Times,serif\" font-size=\"14.00\" fill=\"#000000\">16x8x8</text>\n",
       "</g>\n",
       "<!-- sequential2_flatten0_flatten0 -->\n",
       "<g id=\"node8\" class=\"node\">\n",
       "<title>sequential2_flatten0_flatten0</title>\n",
       "<ellipse fill=\"#fdb462\" stroke=\"#000000\" cx=\"94.77\" cy=\"-792\" rx=\"94.5405\" ry=\"29\"/>\n",
       "<text text-anchor=\"middle\" x=\"94.77\" y=\"-788.3\" font-family=\"Times,serif\" font-size=\"14.00\" fill=\"#000000\">sequential2_flatten0_flatten0</text>\n",
       "</g>\n",
       "<!-- sequential2_flatten0_flatten0&#45;&gt;sequential2_pool1_fwd -->\n",
       "<g id=\"edge7\" class=\"edge\">\n",
       "<title>sequential2_flatten0_flatten0&#45;&gt;sequential2_pool1_fwd</title>\n",
       "<path fill=\"none\" stroke=\"#000000\" d=\"M94.77,-752.4838C94.77,-739.2054 94.77,-724.6405 94.77,-712.2906\"/>\n",
       "<polygon fill=\"#000000\" stroke=\"#000000\" points=\"94.77,-762.79 90.2701,-752.79 94.77,-757.79 94.7701,-752.79 94.7701,-752.79 94.7701,-752.79 94.77,-757.79 99.2701,-752.79 94.77,-762.79 94.77,-762.79\"/>\n",
       "<text text-anchor=\"middle\" x=\"115.27\" y=\"-733.8\" font-family=\"Times,serif\" font-size=\"14.00\" fill=\"#000000\">16x4x4</text>\n",
       "</g>\n",
       "<!-- sequential2_dense0_fwd -->\n",
       "<g id=\"node9\" class=\"node\">\n",
       "<title>sequential2_dense0_fwd</title>\n",
       "<ellipse fill=\"#fb8072\" stroke=\"#000000\" cx=\"94.77\" cy=\"-901\" rx=\"68.3377\" ry=\"29\"/>\n",
       "<text text-anchor=\"middle\" x=\"94.77\" y=\"-904.8\" font-family=\"Times,serif\" font-size=\"14.00\" fill=\"#000000\">FullyConnected</text>\n",
       "<text text-anchor=\"middle\" x=\"94.77\" y=\"-889.8\" font-family=\"Times,serif\" font-size=\"14.00\" fill=\"#000000\">120</text>\n",
       "</g>\n",
       "<!-- sequential2_dense0_fwd&#45;&gt;sequential2_flatten0_flatten0 -->\n",
       "<g id=\"edge8\" class=\"edge\">\n",
       "<title>sequential2_dense0_fwd&#45;&gt;sequential2_flatten0_flatten0</title>\n",
       "<path fill=\"none\" stroke=\"#000000\" d=\"M94.77,-861.4838C94.77,-848.2054 94.77,-833.6405 94.77,-821.2906\"/>\n",
       "<polygon fill=\"#000000\" stroke=\"#000000\" points=\"94.77,-871.79 90.2701,-861.79 94.77,-866.79 94.7701,-861.79 94.7701,-861.79 94.7701,-861.79 94.77,-866.79 99.2701,-861.79 94.77,-871.79 94.77,-871.79\"/>\n",
       "<text text-anchor=\"middle\" x=\"105.27\" y=\"-842.8\" font-family=\"Times,serif\" font-size=\"14.00\" fill=\"#000000\">256</text>\n",
       "</g>\n",
       "<!-- sequential2_dense0_relu_fwd -->\n",
       "<g id=\"node10\" class=\"node\">\n",
       "<title>sequential2_dense0_relu_fwd</title>\n",
       "<ellipse fill=\"#ffffb3\" stroke=\"#000000\" cx=\"94.77\" cy=\"-1010\" rx=\"48.9511\" ry=\"29\"/>\n",
       "<text text-anchor=\"middle\" x=\"94.77\" y=\"-1013.8\" font-family=\"Times,serif\" font-size=\"14.00\" fill=\"#000000\">Activation</text>\n",
       "<text text-anchor=\"middle\" x=\"94.77\" y=\"-998.8\" font-family=\"Times,serif\" font-size=\"14.00\" fill=\"#000000\">relu</text>\n",
       "</g>\n",
       "<!-- sequential2_dense0_relu_fwd&#45;&gt;sequential2_dense0_fwd -->\n",
       "<g id=\"edge9\" class=\"edge\">\n",
       "<title>sequential2_dense0_relu_fwd&#45;&gt;sequential2_dense0_fwd</title>\n",
       "<path fill=\"none\" stroke=\"#000000\" d=\"M94.77,-970.4838C94.77,-957.2054 94.77,-942.6405 94.77,-930.2906\"/>\n",
       "<polygon fill=\"#000000\" stroke=\"#000000\" points=\"94.77,-980.79 90.2701,-970.79 94.77,-975.79 94.7701,-970.79 94.7701,-970.79 94.7701,-970.79 94.77,-975.79 99.2701,-970.79 94.77,-980.79 94.77,-980.79\"/>\n",
       "<text text-anchor=\"middle\" x=\"105.27\" y=\"-951.8\" font-family=\"Times,serif\" font-size=\"14.00\" fill=\"#000000\">120</text>\n",
       "</g>\n",
       "<!-- sequential2_dense1_fwd -->\n",
       "<g id=\"node11\" class=\"node\">\n",
       "<title>sequential2_dense1_fwd</title>\n",
       "<ellipse fill=\"#fb8072\" stroke=\"#000000\" cx=\"94.77\" cy=\"-1119\" rx=\"68.3377\" ry=\"29\"/>\n",
       "<text text-anchor=\"middle\" x=\"94.77\" y=\"-1122.8\" font-family=\"Times,serif\" font-size=\"14.00\" fill=\"#000000\">FullyConnected</text>\n",
       "<text text-anchor=\"middle\" x=\"94.77\" y=\"-1107.8\" font-family=\"Times,serif\" font-size=\"14.00\" fill=\"#000000\">84</text>\n",
       "</g>\n",
       "<!-- sequential2_dense1_fwd&#45;&gt;sequential2_dense0_relu_fwd -->\n",
       "<g id=\"edge10\" class=\"edge\">\n",
       "<title>sequential2_dense1_fwd&#45;&gt;sequential2_dense0_relu_fwd</title>\n",
       "<path fill=\"none\" stroke=\"#000000\" d=\"M94.77,-1079.4838C94.77,-1066.2054 94.77,-1051.6405 94.77,-1039.2906\"/>\n",
       "<polygon fill=\"#000000\" stroke=\"#000000\" points=\"94.77,-1089.79 90.2701,-1079.79 94.77,-1084.79 94.7701,-1079.79 94.7701,-1079.79 94.7701,-1079.79 94.77,-1084.79 99.2701,-1079.79 94.77,-1089.79 94.77,-1089.79\"/>\n",
       "<text text-anchor=\"middle\" x=\"105.27\" y=\"-1060.8\" font-family=\"Times,serif\" font-size=\"14.00\" fill=\"#000000\">120</text>\n",
       "</g>\n",
       "<!-- sequential2_dense1_relu_fwd -->\n",
       "<g id=\"node12\" class=\"node\">\n",
       "<title>sequential2_dense1_relu_fwd</title>\n",
       "<ellipse fill=\"#ffffb3\" stroke=\"#000000\" cx=\"94.77\" cy=\"-1228\" rx=\"48.9511\" ry=\"29\"/>\n",
       "<text text-anchor=\"middle\" x=\"94.77\" y=\"-1231.8\" font-family=\"Times,serif\" font-size=\"14.00\" fill=\"#000000\">Activation</text>\n",
       "<text text-anchor=\"middle\" x=\"94.77\" y=\"-1216.8\" font-family=\"Times,serif\" font-size=\"14.00\" fill=\"#000000\">relu</text>\n",
       "</g>\n",
       "<!-- sequential2_dense1_relu_fwd&#45;&gt;sequential2_dense1_fwd -->\n",
       "<g id=\"edge11\" class=\"edge\">\n",
       "<title>sequential2_dense1_relu_fwd&#45;&gt;sequential2_dense1_fwd</title>\n",
       "<path fill=\"none\" stroke=\"#000000\" d=\"M94.77,-1188.4838C94.77,-1175.2054 94.77,-1160.6405 94.77,-1148.2906\"/>\n",
       "<polygon fill=\"#000000\" stroke=\"#000000\" points=\"94.77,-1198.79 90.2701,-1188.79 94.77,-1193.79 94.7701,-1188.79 94.7701,-1188.79 94.7701,-1188.79 94.77,-1193.79 99.2701,-1188.79 94.77,-1198.79 94.77,-1198.79\"/>\n",
       "<text text-anchor=\"middle\" x=\"101.77\" y=\"-1169.8\" font-family=\"Times,serif\" font-size=\"14.00\" fill=\"#000000\">84</text>\n",
       "</g>\n",
       "<!-- sequential2_dense2_fwd -->\n",
       "<g id=\"node13\" class=\"node\">\n",
       "<title>sequential2_dense2_fwd</title>\n",
       "<ellipse fill=\"#fb8072\" stroke=\"#000000\" cx=\"94.77\" cy=\"-1337\" rx=\"68.3377\" ry=\"29\"/>\n",
       "<text text-anchor=\"middle\" x=\"94.77\" y=\"-1340.8\" font-family=\"Times,serif\" font-size=\"14.00\" fill=\"#000000\">FullyConnected</text>\n",
       "<text text-anchor=\"middle\" x=\"94.77\" y=\"-1325.8\" font-family=\"Times,serif\" font-size=\"14.00\" fill=\"#000000\">10</text>\n",
       "</g>\n",
       "<!-- sequential2_dense2_fwd&#45;&gt;sequential2_dense1_relu_fwd -->\n",
       "<g id=\"edge12\" class=\"edge\">\n",
       "<title>sequential2_dense2_fwd&#45;&gt;sequential2_dense1_relu_fwd</title>\n",
       "<path fill=\"none\" stroke=\"#000000\" d=\"M94.77,-1297.4838C94.77,-1284.2054 94.77,-1269.6405 94.77,-1257.2906\"/>\n",
       "<polygon fill=\"#000000\" stroke=\"#000000\" points=\"94.77,-1307.79 90.2701,-1297.79 94.77,-1302.79 94.7701,-1297.79 94.7701,-1297.79 94.7701,-1297.79 94.77,-1302.79 99.2701,-1297.79 94.77,-1307.79 94.77,-1307.79\"/>\n",
       "<text text-anchor=\"middle\" x=\"101.77\" y=\"-1278.8\" font-family=\"Times,serif\" font-size=\"14.00\" fill=\"#000000\">84</text>\n",
       "</g>\n",
       "</g>\n",
       "</svg>\n"
      ],
      "text/plain": [
       "<graphviz.dot.Digraph at 0x7ff1787fd6a0>"
      ]
     },
     "execution_count": 48,
     "metadata": {},
     "output_type": "execute_result"
    }
   ],
   "source": [
    "mx.viz.plot_network(net(mx.sym.var('data')), \n",
    "                    shape={\"data\":(1, 1, 28, 28)},\n",
    "                    node_attrs={\"shape\":\"oval\",\"fixedsize\":\"False\"},\n",
    "                   )"
   ]
  },
  {
   "cell_type": "markdown",
   "metadata": {
    "slideshow": {
     "slide_type": "notes"
    }
   },
   "source": [
    "<!--Mention the tuple option for kernel and stride as an exercise for the reader? Or leave it out as too much info for now?-->\n",
    "\n",
    "The usage of `nn.Sequential` is similar to `nn.Dense`. In fact, both of them are subclasses of `nn.Block`. The following codes show how to initialize the weights and run the forward pass."
   ]
  },
  {
   "cell_type": "markdown",
   "metadata": {
    "slideshow": {
     "slide_type": "slide"
    }
   },
   "source": [
    "Run network"
   ]
  },
  {
   "cell_type": "code",
   "execution_count": 49,
   "metadata": {
    "slideshow": {
     "slide_type": "fragment"
    }
   },
   "outputs": [
    {
     "data": {
      "text/plain": [
       "(4, 10)"
      ]
     },
     "execution_count": 49,
     "metadata": {},
     "output_type": "execute_result"
    }
   ],
   "source": [
    "net.initialize()\n",
    "# Input shape is (batch_size, color_channels, height, width)\n",
    "x = nd.random.uniform(shape=(4, 1, 28, 28))\n",
    "y = net(x)\n",
    "y.shape"
   ]
  },
  {
   "cell_type": "markdown",
   "metadata": {
    "slideshow": {
     "slide_type": "notes"
    }
   },
   "source": [
    "We can use `[]` to index a particular layer. For example, the following\n",
    "accesses the 1st layer's weight and 6th layer's bias."
   ]
  },
  {
   "cell_type": "markdown",
   "metadata": {
    "slideshow": {
     "slide_type": "slide"
    }
   },
   "source": [
    "Specific layer"
   ]
  },
  {
   "cell_type": "code",
   "execution_count": 50,
   "metadata": {},
   "outputs": [
    {
     "data": {
      "text/plain": [
       "Sequential(\n",
       "  (0): Conv2D(1 -> 6, kernel_size=(5, 5), stride=(1, 1))\n",
       "  (1): MaxPool2D(size=(2, 2), stride=(2, 2), padding=(0, 0), ceil_mode=False)\n",
       "  (2): Conv2D(6 -> 16, kernel_size=(5, 5), stride=(1, 1))\n",
       "  (3): MaxPool2D(size=(2, 2), stride=(2, 2), padding=(0, 0), ceil_mode=False)\n",
       "  (4): Flatten\n",
       "  (5): Dense(256 -> 120, Activation(relu))\n",
       "  (6): Dense(120 -> 84, Activation(relu))\n",
       "  (7): Dense(84 -> 10, linear)\n",
       ")"
      ]
     },
     "execution_count": 50,
     "metadata": {},
     "output_type": "execute_result"
    }
   ],
   "source": [
    "net"
   ]
  },
  {
   "cell_type": "code",
   "execution_count": 51,
   "metadata": {
    "slideshow": {
     "slide_type": "fragment"
    }
   },
   "outputs": [
    {
     "data": {
      "text/plain": [
       "'First Conv2D layer weight shape (6, 1, 5, 5)'"
      ]
     },
     "execution_count": 51,
     "metadata": {},
     "output_type": "execute_result"
    }
   ],
   "source": [
    "\"First Conv2D layer weight shape {}\".format(net[0].weight.data().shape)"
   ]
  },
  {
   "cell_type": "markdown",
   "metadata": {
    "slideshow": {
     "slide_type": "slide"
    }
   },
   "source": [
    "## Blocks\n",
    "In Gluon, Each layer is a Block and these blocks can be stacked together to create a Neural Network. You can also create a CustomBlock that does not have to layered on top of each other."
   ]
  },
  {
   "cell_type": "markdown",
   "metadata": {
    "slideshow": {
     "slide_type": "fragment"
    }
   },
   "source": [
    "## Hybrid Blocks\n",
    "HybridBlocks allows to write custom layers that can be used in imperative programming as well as symbolic programming.  \n",
    "Hybridization is a process in MXNet to create symbolic graph of a forward computation. Once the graph is computed, its cached and reused for subsequent computations.\n",
    "Symbolic graphs provide faster computation speed which are often necessary for Inference"
   ]
  },
  {
   "cell_type": "markdown",
   "metadata": {
    "slideshow": {
     "slide_type": "slide"
    }
   },
   "source": [
    "## Create a neural network flexibly"
   ]
  },
  {
   "cell_type": "markdown",
   "metadata": {
    "slideshow": {
     "slide_type": "slide"
    }
   },
   "source": [
    "In `nn.Sequential`, MXNet will automatically construct the forward function that sequentially executes added layers.\n",
    "Now let's introduce another way to construct a network with a flexible forward function.\n",
    "\n",
    "To do it, we create a subclass of `nn.Block` and implement two methods:\n",
    "\n",
    "- `__init__` create the layers\n",
    "- `forward` define the forward function."
   ]
  },
  {
   "cell_type": "code",
   "execution_count": 52,
   "metadata": {
    "attributes": {
     "classes": [],
     "id": "",
     "n": "6"
    },
    "slideshow": {
     "slide_type": "fragment"
    }
   },
   "outputs": [
    {
     "data": {
      "text/plain": [
       "MixMLP(\n",
       "  (features): Sequential(\n",
       "    (0): Dense(None -> 3, Activation(relu))\n",
       "    (1): Dense(None -> 4, Activation(relu))\n",
       "  )\n",
       "  (output): Dense(None -> 5, linear)\n",
       ")"
      ]
     },
     "execution_count": 52,
     "metadata": {},
     "output_type": "execute_result"
    }
   ],
   "source": [
    "class MixMLP(nn.Block):\n",
    "    def __init__(self, **kwargs):\n",
    "        super(MixMLP, self).__init__(**kwargs)\n",
    "        with self.name_scope():\n",
    "            self.features = nn.Sequential()\n",
    "\n",
    "            self.features.add(\n",
    "                nn.Dense(3, activation='relu'),\n",
    "                nn.Dense(4, activation='relu')\n",
    "            )\n",
    "            self.output = nn.Dense(5)\n",
    "            \n",
    "    def forward(self, x):\n",
    "        y = self.features(x)\n",
    "        print(\"Features\", y)\n",
    "        return self.output(y)\n",
    "\n",
    "net2 = MixMLP()\n",
    "net2"
   ]
  },
  {
   "cell_type": "markdown",
   "metadata": {
    "slideshow": {
     "slide_type": "notes"
    }
   },
   "source": [
    "In the sequential chaining approach, we can only add instances with `nn.Block` as the base class and then run them in a forward pass. In this example, we used `print` to get the intermediate results and `nd.relu` to apply relu activation. So this approach provides a more flexible way to define the forward function.\n",
    "\n",
    "The usage of `net` is similar as before."
   ]
  },
  {
   "cell_type": "markdown",
   "metadata": {
    "slideshow": {
     "slide_type": "slide"
    }
   },
   "source": [
    "Print statements"
   ]
  },
  {
   "cell_type": "code",
   "execution_count": 53,
   "metadata": {
    "slideshow": {
     "slide_type": "fragment"
    }
   },
   "outputs": [],
   "source": [
    "net2.initialize()"
   ]
  },
  {
   "cell_type": "code",
   "execution_count": 54,
   "metadata": {
    "slideshow": {
     "slide_type": "fragment"
    }
   },
   "outputs": [
    {
     "name": "stdout",
     "output_type": "stream",
     "text": [
      "Features \n",
      "[[ 0.  0.  0.  0.]\n",
      " [ 0.  0.  0.  0.]]\n",
      "<NDArray 2x4 @cpu(0)>\n"
     ]
    }
   ],
   "source": [
    "x = nd.random.uniform(shape=(2,2))\n",
    "out = net2(x)"
   ]
  },
  {
   "cell_type": "markdown",
   "metadata": {
    "slideshow": {
     "slide_type": "notes"
    }
   },
   "source": [
    "Finally, let's access a particular layer's weight"
   ]
  },
  {
   "cell_type": "markdown",
   "metadata": {
    "slideshow": {
     "slide_type": "slide"
    }
   },
   "source": [
    "Weight access"
   ]
  },
  {
   "cell_type": "code",
   "execution_count": 55,
   "metadata": {
    "attributes": {
     "classes": [],
     "id": "",
     "n": "8"
    },
    "slideshow": {
     "slide_type": "fragment"
    }
   },
   "outputs": [
    {
     "data": {
      "text/plain": [
       "\n",
       "[[ 0.03703868 -0.05411197  0.02775479]\n",
       " [-0.03188789 -0.02303025 -0.05851192]\n",
       " [-0.04932402  0.03713788 -0.06123096]\n",
       " [-0.06696358 -0.03613376 -0.05078481]]\n",
       "<NDArray 4x3 @cpu(0)>"
      ]
     },
     "execution_count": 55,
     "metadata": {},
     "output_type": "execute_result"
    }
   ],
   "source": [
    "net2.features[1].weight.data()"
   ]
  }
 ],
 "metadata": {
  "celltoolbar": "Slideshow",
  "kernelspec": {
   "display_name": "conda_mxnet_p36",
   "language": "python",
   "name": "conda_mxnet_p36"
  },
  "language_info": {
   "codemirror_mode": {
    "name": "ipython",
    "version": 3
   },
   "file_extension": ".py",
   "mimetype": "text/x-python",
   "name": "python",
   "nbconvert_exporter": "python",
   "pygments_lexer": "ipython3",
   "version": "3.6.5"
  }
 },
 "nbformat": 4,
 "nbformat_minor": 2
}
