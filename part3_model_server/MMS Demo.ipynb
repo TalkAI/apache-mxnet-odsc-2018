{
 "cells": [
  {
   "cell_type": "markdown",
   "metadata": {
    "slideshow": {
     "slide_type": "slide"
    }
   },
   "source": [
    "# MXNet Model Server"
   ]
  },
  {
   "cell_type": "markdown",
   "metadata": {
    "slideshow": {
     "slide_type": "skip"
    }
   },
   "source": [
    "This Notebook is borrowed from: https://github.com/TalkAI/facial-emotion-recognition-gluon/blob/master/notebooks/Gluon_FERPlus.ipynb"
   ]
  },
  {
   "cell_type": "markdown",
   "metadata": {
    "slideshow": {
     "slide_type": "fragment"
    }
   },
   "source": [
    "## Install the required Packages locally\n",
    "\n",
    "We will need the PyPi packages listed below to test model server locally, and to perform image pre-processing prior to the model inference."
   ]
  },
  {
   "cell_type": "code",
   "execution_count": 1,
   "metadata": {
    "collapsed": true,
    "slideshow": {
     "slide_type": "fragment"
    }
   },
   "outputs": [
    {
     "name": "stdout",
     "output_type": "stream",
     "text": [
      "Collecting mxnet-model-server\n",
      "  Using cached https://files.pythonhosted.org/packages/4a/ae/6bda14f740dbfa608cfdbb4d0d9337bb8681fb1692f8fd2b418df07f3fd3/mxnet_model_server-0.4-py2.py3-none-any.whl\n",
      "Requirement already satisfied: jsonschema in /home/ec2-user/anaconda3/envs/mxnet_p36/lib/python3.6/site-packages (from mxnet-model-server) (2.6.0)\n",
      "Requirement already satisfied: Flask in /home/ec2-user/anaconda3/envs/mxnet_p36/lib/python3.6/site-packages (from mxnet-model-server) (0.12.2)\n",
      "Requirement already satisfied: fasteners in /home/ec2-user/anaconda3/envs/mxnet_p36/lib/python3.6/site-packages (from mxnet-model-server) (0.14.1)\n",
      "Requirement already satisfied: boto3 in /home/ec2-user/anaconda3/envs/mxnet_p36/lib/python3.6/site-packages (from mxnet-model-server) (1.8.9)\n",
      "Requirement already satisfied: requests in /home/ec2-user/anaconda3/envs/mxnet_p36/lib/python3.6/site-packages (from mxnet-model-server) (2.18.4)\n",
      "Requirement already satisfied: flask-cors in /home/ec2-user/anaconda3/envs/mxnet_p36/lib/python3.6/site-packages (from mxnet-model-server) (3.0.3)\n",
      "Collecting mxnet-mkl>=1.2 (from mxnet-model-server)\n",
      "  Using cached https://files.pythonhosted.org/packages/16/7d/a8bb127562b12c5ac285f937af8662db03b59089db2bded68461790e1880/mxnet_mkl-1.3.0.post0-py2.py3-none-manylinux1_x86_64.whl\n",
      "Requirement already satisfied: importlib2 in /home/ec2-user/anaconda3/envs/mxnet_p36/lib/python3.6/site-packages (from mxnet-model-server) (3.5.0.2)\n",
      "Collecting onnx==1.1.1 (from mxnet-model-server)\n",
      "  Using cached https://files.pythonhosted.org/packages/41/ff/9dedf5ec330be64c6c5f7b13e31d7ff674eb3525a2cc73c9f605fedb2e84/onnx-1.1.1.tar.gz\n",
      "Requirement already satisfied: Pillow in /home/ec2-user/anaconda3/envs/mxnet_p36/lib/python3.6/site-packages (from mxnet-model-server) (5.0.0)\n",
      "Requirement already satisfied: psutil in /home/ec2-user/anaconda3/envs/mxnet_p36/lib/python3.6/site-packages (from mxnet-model-server) (5.4.3)\n",
      "Requirement already satisfied: click>=2.0 in /home/ec2-user/anaconda3/envs/mxnet_p36/lib/python3.6/site-packages (from Flask->mxnet-model-server) (6.7)\n",
      "Requirement already satisfied: Jinja2>=2.4 in /home/ec2-user/anaconda3/envs/mxnet_p36/lib/python3.6/site-packages (from Flask->mxnet-model-server) (2.10)\n",
      "Requirement already satisfied: itsdangerous>=0.21 in /home/ec2-user/anaconda3/envs/mxnet_p36/lib/python3.6/site-packages (from Flask->mxnet-model-server) (0.24)\n",
      "Requirement already satisfied: Werkzeug>=0.7 in /home/ec2-user/anaconda3/envs/mxnet_p36/lib/python3.6/site-packages (from Flask->mxnet-model-server) (0.14.1)\n",
      "Requirement already satisfied: six in /home/ec2-user/anaconda3/envs/mxnet_p36/lib/python3.6/site-packages (from fasteners->mxnet-model-server) (1.11.0)\n",
      "Requirement already satisfied: monotonic>=0.1 in /home/ec2-user/anaconda3/envs/mxnet_p36/lib/python3.6/site-packages (from fasteners->mxnet-model-server) (1.5)\n",
      "Requirement already satisfied: botocore<1.12.0,>=1.11.9 in /home/ec2-user/anaconda3/envs/mxnet_p36/lib/python3.6/site-packages (from boto3->mxnet-model-server) (1.11.9)\n",
      "Requirement already satisfied: jmespath<1.0.0,>=0.7.1 in /home/ec2-user/anaconda3/envs/mxnet_p36/lib/python3.6/site-packages (from boto3->mxnet-model-server) (0.9.3)\n",
      "Requirement already satisfied: s3transfer<0.2.0,>=0.1.10 in /home/ec2-user/anaconda3/envs/mxnet_p36/lib/python3.6/site-packages (from boto3->mxnet-model-server) (0.1.13)\n",
      "Requirement already satisfied: chardet<3.1.0,>=3.0.2 in /home/ec2-user/anaconda3/envs/mxnet_p36/lib/python3.6/site-packages (from requests->mxnet-model-server) (3.0.4)\n",
      "Requirement already satisfied: idna<2.7,>=2.5 in /home/ec2-user/anaconda3/envs/mxnet_p36/lib/python3.6/site-packages (from requests->mxnet-model-server) (2.6)\n",
      "Requirement already satisfied: urllib3<1.23,>=1.21.1 in /home/ec2-user/anaconda3/envs/mxnet_p36/lib/python3.6/site-packages (from requests->mxnet-model-server) (1.22)\n",
      "Requirement already satisfied: certifi>=2017.4.17 in /home/ec2-user/anaconda3/envs/mxnet_p36/lib/python3.6/site-packages (from requests->mxnet-model-server) (2018.8.24)\n",
      "Requirement already satisfied: numpy<1.15.0,>=1.8.2 in /home/ec2-user/anaconda3/envs/mxnet_p36/lib/python3.6/site-packages (from mxnet-mkl>=1.2->mxnet-model-server) (1.13.3)\n",
      "Requirement already satisfied: graphviz<0.9.0,>=0.8.1 in /home/ec2-user/anaconda3/envs/mxnet_p36/lib/python3.6/site-packages (from mxnet-mkl>=1.2->mxnet-model-server) (0.8.1)\n",
      "Requirement already satisfied: protobuf in /home/ec2-user/anaconda3/envs/mxnet_p36/lib/python3.6/site-packages (from onnx==1.1.1->mxnet-model-server) (3.5.2)\n",
      "Requirement already satisfied: MarkupSafe>=0.23 in /home/ec2-user/anaconda3/envs/mxnet_p36/lib/python3.6/site-packages (from Jinja2>=2.4->Flask->mxnet-model-server) (1.0)\n",
      "Requirement already satisfied: docutils>=0.10 in /home/ec2-user/anaconda3/envs/mxnet_p36/lib/python3.6/site-packages (from botocore<1.12.0,>=1.11.9->boto3->mxnet-model-server) (0.14)\n",
      "Requirement already satisfied: python-dateutil<3.0.0,>=2.1; python_version >= \"2.7\" in /home/ec2-user/anaconda3/envs/mxnet_p36/lib/python3.6/site-packages (from botocore<1.12.0,>=1.11.9->boto3->mxnet-model-server) (2.7.3)\n",
      "Requirement already satisfied: setuptools in /home/ec2-user/anaconda3/envs/mxnet_p36/lib/python3.6/site-packages (from protobuf->onnx==1.1.1->mxnet-model-server) (39.1.0)\n",
      "Building wheels for collected packages: onnx\n",
      "  Running setup.py bdist_wheel for onnx ... \u001b[?25ldone\n",
      "\u001b[?25h  Stored in directory: /home/ec2-user/.cache/pip/wheels/fb/13/8e/b5652eb574597bfed05b000ed359413029ef2391f24315b733\n",
      "Successfully built onnx\n",
      "\u001b[31mdistributed 1.21.8 requires msgpack, which is not installed.\u001b[0m\n",
      "Installing collected packages: mxnet-mkl, onnx, mxnet-model-server\n",
      "  Found existing installation: onnx 1.3.0\n",
      "    Uninstalling onnx-1.3.0:\n",
      "      Successfully uninstalled onnx-1.3.0\n",
      "Successfully installed mxnet-mkl-1.3.0.post0 mxnet-model-server-0.4 onnx-1.1.1\n",
      "\u001b[33mYou are using pip version 10.0.1, however version 18.1 is available.\n",
      "You should consider upgrading via the 'pip install --upgrade pip' command.\u001b[0m\n",
      "Collecting scikit-image\n",
      "  Using cached https://files.pythonhosted.org/packages/9c/90/553120309c53bdfca25c9c50769ae40a538a90c24db8c082468aec898d00/scikit_image-0.14.1-cp36-cp36m-manylinux1_x86_64.whl\n",
      "Requirement already satisfied: networkx>=1.8 in /home/ec2-user/anaconda3/envs/mxnet_p36/lib/python3.6/site-packages (from scikit-image) (2.1)\n",
      "Requirement already satisfied: six>=1.10.0 in /home/ec2-user/anaconda3/envs/mxnet_p36/lib/python3.6/site-packages (from scikit-image) (1.11.0)\n",
      "Requirement already satisfied: dask[array]>=0.9.0 in /home/ec2-user/anaconda3/envs/mxnet_p36/lib/python3.6/site-packages (from scikit-image) (0.17.5)\n",
      "Requirement already satisfied: cloudpickle>=0.2.1 in /home/ec2-user/anaconda3/envs/mxnet_p36/lib/python3.6/site-packages (from scikit-image) (0.5.3)\n",
      "Requirement already satisfied: scipy>=0.17.0 in /home/ec2-user/anaconda3/envs/mxnet_p36/lib/python3.6/site-packages (from scikit-image) (1.1.0)\n",
      "Requirement already satisfied: pillow>=4.3.0 in /home/ec2-user/anaconda3/envs/mxnet_p36/lib/python3.6/site-packages (from scikit-image) (5.0.0)\n",
      "Requirement already satisfied: PyWavelets>=0.4.0 in /home/ec2-user/anaconda3/envs/mxnet_p36/lib/python3.6/site-packages (from scikit-image) (0.5.2)\n",
      "Requirement already satisfied: matplotlib>=2.0.0 in /home/ec2-user/anaconda3/envs/mxnet_p36/lib/python3.6/site-packages (from scikit-image) (2.2.2)\n",
      "Requirement already satisfied: decorator>=4.1.0 in /home/ec2-user/anaconda3/envs/mxnet_p36/lib/python3.6/site-packages (from networkx>=1.8->scikit-image) (4.3.0)\n",
      "Requirement already satisfied: numpy>=1.11.0; extra == \"array\" in /home/ec2-user/anaconda3/envs/mxnet_p36/lib/python3.6/site-packages (from dask[array]>=0.9.0->scikit-image) (1.13.3)\n",
      "Requirement already satisfied: toolz>=0.7.3; extra == \"array\" in /home/ec2-user/anaconda3/envs/mxnet_p36/lib/python3.6/site-packages (from dask[array]>=0.9.0->scikit-image) (0.9.0)\n",
      "Requirement already satisfied: cycler>=0.10 in /home/ec2-user/anaconda3/envs/mxnet_p36/lib/python3.6/site-packages (from matplotlib>=2.0.0->scikit-image) (0.10.0)\n",
      "Requirement already satisfied: pyparsing!=2.0.4,!=2.1.2,!=2.1.6,>=2.0.1 in /home/ec2-user/anaconda3/envs/mxnet_p36/lib/python3.6/site-packages (from matplotlib>=2.0.0->scikit-image) (2.2.0)\n",
      "Requirement already satisfied: python-dateutil>=2.1 in /home/ec2-user/anaconda3/envs/mxnet_p36/lib/python3.6/site-packages (from matplotlib>=2.0.0->scikit-image) (2.7.3)\n",
      "Requirement already satisfied: pytz in /home/ec2-user/anaconda3/envs/mxnet_p36/lib/python3.6/site-packages (from matplotlib>=2.0.0->scikit-image) (2018.4)\n",
      "Requirement already satisfied: kiwisolver>=1.0.1 in /home/ec2-user/anaconda3/envs/mxnet_p36/lib/python3.6/site-packages (from matplotlib>=2.0.0->scikit-image) (1.0.1)\n",
      "Requirement already satisfied: setuptools in /home/ec2-user/anaconda3/envs/mxnet_p36/lib/python3.6/site-packages (from kiwisolver>=1.0.1->matplotlib>=2.0.0->scikit-image) (39.1.0)\n"
     ]
    },
    {
     "name": "stdout",
     "output_type": "stream",
     "text": [
      "\u001b[31mdistributed 1.21.8 requires msgpack, which is not installed.\u001b[0m\n",
      "Installing collected packages: scikit-image\n",
      "Successfully installed scikit-image-0.14.1\n",
      "\u001b[33mYou are using pip version 10.0.1, however version 18.1 is available.\n",
      "You should consider upgrading via the 'pip install --upgrade pip' command.\u001b[0m\n",
      "Collecting opencv-python\n",
      "  Using cached https://files.pythonhosted.org/packages/18/7f/c836c44ab30074a8486e30f8ea6adc8e6ac02332851ab6cc069e2ac35b84/opencv_python-3.4.3.18-cp36-cp36m-manylinux1_x86_64.whl\n",
      "Requirement already satisfied: numpy>=1.11.3 in /home/ec2-user/anaconda3/envs/mxnet_p36/lib/python3.6/site-packages (from opencv-python) (1.13.3)\n",
      "\u001b[31mdistributed 1.21.8 requires msgpack, which is not installed.\u001b[0m\n",
      "Installing collected packages: opencv-python\n",
      "Successfully installed opencv-python-3.4.3.18\n",
      "\u001b[33mYou are using pip version 10.0.1, however version 18.1 is available.\n",
      "You should consider upgrading via the 'pip install --upgrade pip' command.\u001b[0m\n"
     ]
    }
   ],
   "source": [
    "!pip install mxnet-model-server\n",
    "!pip install scikit-image\n",
    "!pip install opencv-python"
   ]
  },
  {
   "cell_type": "code",
   "execution_count": 1,
   "metadata": {
    "slideshow": {
     "slide_type": "fragment"
    }
   },
   "outputs": [
    {
     "name": "stdout",
     "output_type": "stream",
     "text": [
      "{\r\n",
      "  \"input_type\": \"image/jpeg\", \r\n",
      "  \"inputs\": [\r\n",
      "    {\r\n",
      "      \"data_shape\": [1, 1, 64, 64], \r\n",
      "      \"data_name\": \"data\"\r\n",
      "    }\r\n",
      "  ], \r\n",
      "  \"outputs\": [\r\n",
      "    {\r\n",
      "      \"data_shape\": [1, 8],\r\n",
      "      \"data_name\": \"hybridsequential0_dense2_fwd\"\r\n",
      "    }\r\n",
      "  ], \r\n",
      "  \"output_type\": \"application/json\"\r\n",
      "}"
     ]
    }
   ],
   "source": [
    "# We define the model's input and output type and shape via signature.json\n",
    "!cat ./model_archive_resources/signature.json"
   ]
  },
  {
   "cell_type": "code",
   "execution_count": 2,
   "metadata": {
    "slideshow": {
     "slide_type": "fragment"
    }
   },
   "outputs": [
    {
     "name": "stdout",
     "output_type": "stream",
     "text": [
      "neutral\r\n",
      "happiness\r\n",
      "surprise\r\n",
      "sadness\r\n",
      "anger\r\n",
      "disgust\r\n",
      "fear\r\n",
      "contempt"
     ]
    }
   ],
   "source": [
    "# We define the model's class label names via synset.txt\n",
    "!cat ./model_archive_resources/synset.txt"
   ]
  },
  {
   "cell_type": "code",
   "execution_count": 3,
   "metadata": {
    "slideshow": {
     "slide_type": "fragment"
    }
   },
   "outputs": [
    {
     "name": "stdout",
     "output_type": "stream",
     "text": [
      "import numpy as np\r\n",
      "from mms.utils.mxnet import image\r\n",
      "from mms.model_service.mxnet_model_service import MXNetBaseService\r\n",
      "from skimage import transform\r\n",
      "import mxnet as mx\r\n",
      "import cv2 as cv\r\n",
      "\r\n",
      "# One time initialization of Haar Cascade Classifier to extract and crop out face\r\n",
      "face_detector = cv.CascadeClassifier('haarcascade_frontalface.xml')\r\n",
      "# Classifier parameter specifying how much the image size is reduced at each image scale\r\n",
      "scale_factor = 1.3\r\n",
      "# Classifier parameter how many neighbors each candidate rectangle should have to retain it\r\n",
      "min_neighbors = 5\r\n",
      "\r\n",
      "def crop_face(image):\r\n",
      "    \"\"\"Attempts to identify a face in the input image.\r\n",
      "\r\n",
      "    Parameters\r\n",
      "    ----------\r\n",
      "    image : array representing a BGR image\r\n",
      "\r\n",
      "    Returns\r\n",
      "    -------\r\n",
      "    array\r\n",
      "        The cropped face, transformed to grayscale. If no face found returns None\r\n",
      "\r\n",
      "    \"\"\"\r\n",
      "    gray_image = cv.cvtColor(image, cv.COLOR_BGR2GRAY)\r\n",
      "    face_roi_list = face_detector.detectMultiScale(gray_image, scale_factor, min_neighbors)\r\n",
      "    \r\n",
      "    if (len(face_roi_list) > 0):\r\n",
      "        (x,y,w,h) = face_roi_list[0]\r\n",
      "        return gray_image[y:y+h,x:x+w]\r\n",
      "    else:\r\n",
      "        return None\r\n",
      "\r\n",
      "class FERService(MXNetBaseService):\r\n",
      "    \"\"\"\r\n",
      "    Defines custom pre and post processing for the Facial Emotion Recognition model\r\n",
      "    \"\"\"\r\n",
      "\r\n",
      "    def _preprocess(self, data):\r\n",
      "        \"\"\"\r\n",
      "        Pre-process requests by attempting to extract face image, and transforing to fit the model's input\r\n",
      "\r\n",
      "        Parameters\r\n",
      "        ----------\r\n",
      "        data : list of input images\r\n",
      "            Raw inputs from request.\r\n",
      "\r\n",
      "        Returns\r\n",
      "        -------\r\n",
      "        list of NDArray\r\n",
      "            Processed images in the model's expected input shape\r\n",
      "        \"\"\"\r\n",
      "        img_list = []\r\n",
      "\r\n",
      "        # Iterate over all input images provided with the request, transform and append for inference\r\n",
      "        for idx, img in enumerate(data):          \r\n",
      "            input_shape = self.signature['inputs'][idx]['data_shape']\r\n",
      "            [h, w] = input_shape[2:]\r\n",
      "            img_arr = image.read(img).asnumpy()\r\n",
      "            \r\n",
      "            # Try to identify face to crop\r\n",
      "            face = crop_face(img_arr)\r\n",
      "            if (face is not None):\r\n",
      "                face = transform.resize(face, (h,w))            \r\n",
      "            # If no face identified - use the entire input image\r\n",
      "            else:\r\n",
      "                face = cv.cvtColor(img_arr, cv.COLOR_BGR2GRAY)\r\n",
      "\r\n",
      "            # Transform image into tensor of the required shape \r\n",
      "            face = np.resize(face, input_shape)\r\n",
      "            face = mx.nd.array(face)\r\n",
      "            img_list.append(face)\r\n",
      "        \r\n",
      "        return img_list\r\n",
      "\r\n",
      "    def _postprocess(self, data):\r\n",
      "        \"\"\"\r\n",
      "        Post-process inference result to normalize probabilities and render with labels\r\n",
      "\r\n",
      "        Parameters\r\n",
      "        ----------\r\n",
      "        data : list of NDArray\r\n",
      "            Inference output.\r\n",
      "\r\n",
      "        Returns\r\n",
      "        -------\r\n",
      "        list of object\r\n",
      "            list of outputs to be sent back.\r\n",
      "        \"\"\"\r\n",
      "        response = []\r\n",
      "        \r\n",
      "        # Iterating over inference results to render the normalized probabilities\r\n",
      "        for inference_result in data:\r\n",
      "            softmax_result = inference_result.softmax().asnumpy()\r\n",
      "            for idx, label in enumerate(self.labels):\r\n",
      "                response.append({label: float(softmax_result[0][idx])})\r\n",
      "        return response\r\n"
     ]
    }
   ],
   "source": [
    "# And lastly, we define custom code for request handling via python code other auxiliary files\n",
    "!cat ./model_archive_resources/fer_service.py"
   ]
  },
  {
   "cell_type": "markdown",
   "metadata": {
    "slideshow": {
     "slide_type": "slide"
    }
   },
   "source": [
    "## Download Model"
   ]
  },
  {
   "cell_type": "code",
   "execution_count": 4,
   "metadata": {
    "slideshow": {
     "slide_type": "fragment"
    }
   },
   "outputs": [
    {
     "name": "stdout",
     "output_type": "stream",
     "text": [
      "/Users/wamy/nswamy/deepengine/workspace/dl-introduction-apache-mxnet-odsc-2018/part3_model_server/model_archive_resources\n",
      "  % Total    % Received % Xferd  Average Speed   Time    Time     Time  Current\n",
      "                                 Dload  Upload   Total   Spent    Left  Speed\n",
      "100 33.4M  100 33.4M    0     0  7257k      0  0:00:04  0:00:04 --:--:-- 7429k\n",
      "  % Total    % Received % Xferd  Average Speed   Time    Time     Time  Current\n",
      "                                 Dload  Upload   Total   Spent    Left  Speed\n",
      "100 16867  100 16867    0     0      0      0 --:--:-- --:--:-- --:--:--     0 0  36351      0 --:--:-- --:--:-- --:--:-- 36273\n"
     ]
    }
   ],
   "source": [
    "%cd model_archive_resources\n",
    "!curl -O https://s3.amazonaws.com/mxnet-demo-models/models/fer/gluon_ferplus-0000.params\n",
    "!curl -O https://s3.amazonaws.com/mxnet-demo-models/models/fer/gluon_ferplus-symbol.json"
   ]
  },
  {
   "cell_type": "markdown",
   "metadata": {
    "slideshow": {
     "slide_type": "slide"
    }
   },
   "source": [
    "## Export model"
   ]
  },
  {
   "cell_type": "code",
   "execution_count": null,
   "metadata": {},
   "outputs": [],
   "source": [
    "%cd ../\n",
    "!pwd"
   ]
  },
  {
   "cell_type": "code",
   "execution_count": 12,
   "metadata": {
    "slideshow": {
     "slide_type": "fragment"
    }
   },
   "outputs": [],
   "source": [
    "# Let's package everything up into a Model Archive bundle\n",
    "!mxnet-model-export --model-name ferplus \\\n",
    "--service-file-path ./model_archive_resources/fer_service.py \\\n",
    "--model-path ./model_archive_resources"
   ]
  },
  {
   "cell_type": "code",
   "execution_count": 13,
   "metadata": {
    "slideshow": {
     "slide_type": "fragment"
    }
   },
   "outputs": [
    {
     "name": "stdout",
     "output_type": "stream",
     "text": [
      "-rw-r--r--  1 wamy  1896053708  71970001 Oct 30 00:05 ferplus.model\r\n"
     ]
    }
   ],
   "source": [
    "!ls -l ferplus.model"
   ]
  },
  {
   "cell_type": "code",
   "execution_count": 16,
   "metadata": {
    "slideshow": {
     "slide_type": "fragment"
    }
   },
   "outputs": [],
   "source": [
    "# Spawning a new process to run the server\n",
    "import subprocess as sp\n",
    "server = sp.Popen(\"mxnet-model-server --models ferplus=ferplus.model\", shell=True)"
   ]
  },
  {
   "cell_type": "code",
   "execution_count": 18,
   "metadata": {
    "scrolled": false,
    "slideshow": {
     "slide_type": "fragment"
    }
   },
   "outputs": [
    {
     "name": "stdout",
     "output_type": "stream",
     "text": [
      "{\"health\":\"healthy!\"}\r\n"
     ]
    }
   ],
   "source": [
    "# Check out the health endpoint\n",
    "!curl http://localhost:8080/ping"
   ]
  },
  {
   "cell_type": "code",
   "execution_count": 20,
   "metadata": {
    "slideshow": {
     "slide_type": "fragment"
    }
   },
   "outputs": [
    {
     "name": "stdout",
     "output_type": "stream",
     "text": [
      "<!DOCTYPE HTML PUBLIC \"-//W3C//DTD HTML 3.2 Final//EN\">\r\n",
      "<title>500 Internal Server Error</title>\r\n",
      "<h1>Internal Server Error</h1>\r\n",
      "<p>Error occurs while inference was executed on server.</p>\r\n"
     ]
    }
   ],
   "source": [
    "!curl -X POST http://localhost:8080/ferplus/predict -F \"data=@./happy.jpg\""
   ]
  },
  {
   "cell_type": "code",
   "execution_count": 19,
   "metadata": {
    "slideshow": {
     "slide_type": "fragment"
    }
   },
   "outputs": [],
   "source": [
    "# Lastly, we'll terminate the server\n",
    "server.terminate()"
   ]
  }
 ],
 "metadata": {
  "celltoolbar": "Slideshow",
  "kernelspec": {
   "display_name": "Python 3",
   "language": "python",
   "name": "python3"
  },
  "language_info": {
   "codemirror_mode": {
    "name": "ipython",
    "version": 2
   },
   "file_extension": ".py",
   "mimetype": "text/x-python",
   "name": "python",
   "nbconvert_exporter": "python",
   "pygments_lexer": "ipython2",
   "version": "2.7.15"
  }
 },
 "nbformat": 4,
 "nbformat_minor": 2
}
